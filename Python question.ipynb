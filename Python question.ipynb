{
 "cells": [
  {
   "cell_type": "markdown",
   "id": "b802f29a-a71c-4f42-a661-c8ad4d212aa9",
   "metadata": {},
   "source": [
    "# 1. What is python?"
   ]
  },
  {
   "cell_type": "code",
   "execution_count": null,
   "id": "dd2d5fc8-fadd-45e1-8be9-fb2747041197",
   "metadata": {},
   "outputs": [],
   "source": [
    "Python is a high level interpreted language. It is used to used to develop software and web application."
   ]
  },
  {
   "cell_type": "markdown",
   "id": "b305830e-aab8-4e21-8a4f-12affefab6dd",
   "metadata": {},
   "source": [
    "# 2. Tell me the area where python is being used?"
   ]
  },
  {
   "cell_type": "code",
   "execution_count": null,
   "id": "e75ba20b-e5df-4fba-840d-7b4ac315a2f5",
   "metadata": {},
   "outputs": [],
   "source": [
    "1. Web development\n",
    "2. Data science\n",
    "3. Data analytics\n",
    "4. Machine learning\n",
    "5. AI(Artifical Intelligence)\n",
    "6. Automation & scripting\n",
    "7. Game development\n",
    "8. Desktop application\n",
    "9. Cyber security\n",
    "10. Internet of things"
   ]
  },
  {
   "cell_type": "markdown",
   "id": "045c32ac-bc51-4d83-9bfd-d6f336941196",
   "metadata": {},
   "source": [
    "# 3. What is high level and low-level language? "
   ]
  },
  {
   "cell_type": "code",
   "execution_count": null,
   "id": "e42336fa-b48d-46bf-96f2-98de773851c4",
   "metadata": {},
   "outputs": [],
   "source": [
    "High level language:-  A high level language is a programming language designed to be easy for human to read,write and understand.\n",
    " EX:- python,java, c++, javascript.\n",
    "\n",
    "Low level language:- A low level language is a machine-oriented programming language that provide little or no abstraction from a\n",
    "computer hardware.\n",
    " EX:- Assembly language, Machine code."
   ]
  },
  {
   "cell_type": "markdown",
   "id": "aa3f8725-b43e-4bd4-b9f2-9a9f36513985",
   "metadata": {},
   "source": [
    "# 4. What is interpreted language?"
   ]
  },
  {
   "cell_type": "code",
   "execution_count": null,
   "id": "59213d37-944a-4978-bd19-c608eb524ffd",
   "metadata": {},
   "outputs": [],
   "source": [
    "An interpreted language is a programming language that is executed line by line by an interpreted rather than."
   ]
  },
  {
   "cell_type": "markdown",
   "id": "7f2b8fbf-8ad4-4732-b9f2-85912405bd55",
   "metadata": {},
   "source": [
    "# 5. What is compiled language?"
   ]
  },
  {
   "cell_type": "code",
   "execution_count": null,
   "id": "5724db19-3a22-4a32-bb9e-8c59bc7b8fc8",
   "metadata": {},
   "outputs": [],
   "source": [
    "A compiled language is a programming language whose code is transformed into machine code(binary code) before it is run on a computer."
   ]
  },
  {
   "cell_type": "markdown",
   "id": "9261cf6c-443f-4121-8725-70f1143f7a44",
   "metadata": {},
   "source": [
    "# 6. What is statically typed language?"
   ]
  },
  {
   "cell_type": "code",
   "execution_count": null,
   "id": "9efd16ef-f5e4-46fd-9405-ee0b8d8fe2c2",
   "metadata": {},
   "outputs": [],
   "source": [
    "A language data types are checked at compile time."
   ]
  },
  {
   "cell_type": "markdown",
   "id": "182bb982-84b3-4b55-a03e-bc109e33e841",
   "metadata": {},
   "source": [
    "# 7. What is dynamically typed language?"
   ]
  },
  {
   "cell_type": "code",
   "execution_count": null,
   "id": "8175c4fd-cc4b-4e7b-a2e2-44b05ba4b30d",
   "metadata": {},
   "outputs": [],
   "source": [
    "The type of a variable is determined at runtime meaning it can change based on the value assigned to it."
   ]
  },
  {
   "cell_type": "markdown",
   "id": "2fcc6664-148a-45b1-b0f3-65fa7fc672f8",
   "metadata": {},
   "source": [
    "# 8. What is weekly typed language?"
   ]
  },
  {
   "cell_type": "code",
   "execution_count": null,
   "id": "4bc76719-0354-45d6-b5d9-65d4d99828da",
   "metadata": {},
   "outputs": [],
   "source": [
    "A programming language where the type of a variable is not explicity declared can be determined during runtime.\n",
    "\n",
    "x=5   // number\n",
    "y=\"5\" // string\n",
    "\n",
    " # log(x+y) = \"55\""
   ]
  },
  {
   "cell_type": "markdown",
   "id": "a1435847-b14a-4be4-8cdb-dd43fbeb6838",
   "metadata": {},
   "source": [
    "# 9. What is strongly typed language?"
   ]
  },
  {
   "cell_type": "code",
   "execution_count": null,
   "id": "fd5199ca-903d-4342-9fad-813a774a5d57",
   "metadata": {},
   "outputs": [],
   "source": [
    "A strongly typed language means variable keep their types, and you cannot mix types in way that do not make sense.\n",
    "\n",
    "x=3  # x is an integer \n",
    "y=\"5\" # y is a string\n",
    "\n",
    " print(x+y) # this will give an error"
   ]
  },
  {
   "cell_type": "markdown",
   "id": "20bc1ebd-6d63-4ba5-bfc9-d8e06bb10853",
   "metadata": {},
   "source": [
    "# 10. What is .PYC file(Byte code)?"
   ]
  },
  {
   "cell_type": "code",
   "execution_count": null,
   "id": "13e04781-b8da-42e5-9910-f6d6faf40233",
   "metadata": {},
   "outputs": [],
   "source": [
    ".PYC files are compiled bytecode files that are generated by the python interpreter when a python script is imported or executed.\n",
    "\n",
    ".PYC files are basically treated like a cache."
   ]
  },
  {
   "cell_type": "markdown",
   "id": "bb06e516-3939-48a9-ab82-2a31ca2805d4",
   "metadata": {},
   "source": [
    "# 11. What is PVM?"
   ]
  },
  {
   "cell_type": "code",
   "execution_count": null,
   "id": "45f74740-a588-45fb-ab31-099b56347543",
   "metadata": {},
   "outputs": [],
   "source": [
    "The Python Virtual Machine is the component of the python interpreter that executes python bytecode,when you write python code."
   ]
  },
  {
   "cell_type": "markdown",
   "id": "c8e6862b-32f7-4e9c-94f4-0329161753a9",
   "metadata": {},
   "source": [
    "# 12. How python internally works?"
   ]
  },
  {
   "cell_type": "code",
   "execution_count": null,
   "id": "dad06488-91ba-4734-830e-6db9768de91a",
   "metadata": {},
   "outputs": [],
   "source": [
    "Python doesnot convert its code into machine code, something that hardware can understand. it converts into byte code.so within \n",
    "python, compilation happens, but its just not in a machine language. it is into byte code (.pyc or .pyo) and this byte code cannot \n",
    "be understood by the CPU. so we need an interpreter called the python virtual machine to execute the byte codes.\n",
    "\n",
    " Code Editor---> Source File ---> Compiler ---> Byte code---> Virtual Machine---> Running program"
   ]
  },
  {
   "cell_type": "markdown",
   "id": "88f319f6-fa0d-49c5-8be4-f67565bbb9bb",
   "metadata": {},
   "source": [
    "# 13. What is PEP8?"
   ]
  },
  {
   "cell_type": "code",
   "execution_count": null,
   "id": "b9384412-b55e-46e2-bf00-ff7ffda4898a",
   "metadata": {},
   "outputs": [],
   "source": [
    "PEP8 is stands for Python Enhancement Proposal 8.\n",
    "PEP8 is the style guide for writing python code."
   ]
  },
  {
   "cell_type": "markdown",
   "id": "21d9b8c4-6531-42c1-aaa8-08c577fc4564",
   "metadata": {},
   "source": [
    "# 14. What is PIP what is the use of PIP?"
   ]
  },
  {
   "cell_type": "code",
   "execution_count": null,
   "id": "569a09c0-4e36-4677-9e2d-2611d091709a",
   "metadata": {},
   "outputs": [],
   "source": [
    "PIP stands for \"pip install package\".\n",
    "A tool used to install and manage software package(also known as module or libraries).          "
   ]
  },
  {
   "cell_type": "markdown",
   "id": "c10508e8-8bf0-46f0-b266-4b6191e791a7",
   "metadata": {},
   "source": [
    "# 15. What is Byte code and when is it created?"
   ]
  },
  {
   "cell_type": "code",
   "execution_count": null,
   "id": "828116a9-4992-4c71-a18c-3cc0ff6ed42d",
   "metadata": {},
   "outputs": [],
   "source": [
    "Bytecode is an intermediate code compiled and executed by a virtual machine.\n",
    "\n",
    "   Bytecode created:- \n",
    "1.Bytecode is created automatically when you run a python file.\n",
    "2.It is stored as a .PYC file in a _pycache_ directory(usually next to your .py file)."
   ]
  },
  {
   "cell_type": "markdown",
   "id": "ca41d353-3b9f-425c-918d-fd0b2816e3e0",
   "metadata": {},
   "source": [
    "# 16. What is indentation in python? Does python relay on indentation?"
   ]
  },
  {
   "cell_type": "code",
   "execution_count": null,
   "id": "727ceb3d-dd13-430d-bddd-8b14fc331ab6",
   "metadata": {},
   "outputs": [],
   "source": [
    "Indentation in python refers to the whitespace (spaces or tabs) at the beginning of a line that indicates a block of code.\n",
    "\n",
    "Yes, python relies heavily on indentation!\n",
    "without proper indentation, python code will raise a SyntaxError."
   ]
  },
  {
   "cell_type": "markdown",
   "id": "26e379c7-9cce-498f-9e86-bfa3dc8f643c",
   "metadata": {},
   "source": [
    "# 17. What is variable?"
   ]
  },
  {
   "cell_type": "code",
   "execution_count": null,
   "id": "9a4dd167-7dc1-4daa-a0d1-a7f361e72c35",
   "metadata": {},
   "outputs": [],
   "source": [
    "A variable is a name that refers to a value store in memory.\n",
    "You use variable to store data like numbers,text,list etc."
   ]
  },
  {
   "cell_type": "markdown",
   "id": "180c2ce8-8dd7-4180-895d-9842a98a45d4",
   "metadata": {},
   "source": [
    "# 18. What are variable naming rule?"
   ]
  },
  {
   "cell_type": "markdown",
   "id": "b794dcbf-0f1d-4c37-a67b-b763d84f22f5",
   "metadata": {},
   "source": [
    "1. Variable names must start with a letter(A-Z) or (a-z) or an underscore(_).\n",
    "2. Variable name are case-sensitive.\n",
    "     (age,Age and AGE are different) \n",
    "3. you cannot use python keywords(like if,else,class,return etc).\n",
    "4. you can assign multiple variable at once.\n",
    "        a,b,c = 1,2,3\n",
    "5. A variable name cannot start with a number.    "
   ]
  },
  {
   "cell_type": "markdown",
   "id": "448d084c-436a-475f-a15e-cad5b75dd5ed",
   "metadata": {},
   "source": [
    "# 19. What is datatype and name of datatypes."
   ]
  },
  {
   "cell_type": "code",
   "execution_count": null,
   "id": "7ff5a5da-837e-47ac-b260-3591b54ac4ca",
   "metadata": {},
   "outputs": [],
   "source": [
    "A data type is classification that tells a computer what kind of value a variable has and what type of operation can be performed \n",
    "on it.\n",
    " \n",
    "Names of datatypes:\n",
    "\n",
    "1. Interger(int) - whole number(eg. 5,-5)\n",
    "2. Float(Decimal) - (eg. 3.14,-0.01)\n",
    "3. String(str) - sequence of characters (eg. \"hello\")\n",
    "4. Boolean(bool) - true/false\n",
    "5. list/Array - collection of value (eg. [1,2,3])\n",
    "6. Dictionary - key value pairs (eg .{\"name\":\"Alice\",\"age\":25})\n",
    "7. Tuple - immutable sequence of objects (10,\"hello\",20.3)\n",
    "8. Set\n",
    "9. None\n"
   ]
  },
  {
   "cell_type": "markdown",
   "id": "a90a026b-79d6-4bf4-94f3-280b3a42ee4d",
   "metadata": {},
   "source": [
    "# 20. What is keyword in python?"
   ]
  },
  {
   "cell_type": "code",
   "execution_count": null,
   "id": "2e27a1ea-96e7-46d8-92c3-bc30c84b1e36",
   "metadata": {},
   "outputs": [],
   "source": [
    "Keyword are special word that already have a meaning in python.\n",
    "\n",
    " Keywords list:-\n",
    "'if','else','true','false','none','and','as','for','from','del','elif','except'."
   ]
  }
 ],
 "metadata": {
  "kernelspec": {
   "display_name": "Python [conda env:base] *",
   "language": "python",
   "name": "conda-base-py"
  },
  "language_info": {
   "codemirror_mode": {
    "name": "ipython",
    "version": 3
   },
   "file_extension": ".py",
   "mimetype": "text/x-python",
   "name": "python",
   "nbconvert_exporter": "python",
   "pygments_lexer": "ipython3",
   "version": "3.12.7"
  }
 },
 "nbformat": 4,
 "nbformat_minor": 5
}
