{
 "cells": [
  {
   "cell_type": "markdown",
   "id": "f03e7e5b-afba-4420-8c0f-296631499c36",
   "metadata": {},
   "source": [
    "# 1.How do you concatenate two strings in Python?"
   ]
  },
  {
   "cell_type": "markdown",
   "id": "0234a8fb-e9b7-4981-b259-74e0ea8dbe9b",
   "metadata": {},
   "source": [
    "# 1.using +operator"
   ]
  },
  {
   "cell_type": "code",
   "execution_count": 23,
   "id": "8331e4ae-f685-46c7-9a85-ccd5ef83ab17",
   "metadata": {},
   "outputs": [
    {
     "name": "stdout",
     "output_type": "stream",
     "text": [
      "Hello World\n"
     ]
    }
   ],
   "source": [
    "string1 = \"Hello\"\n",
    "string2 = \"World\"\n",
    "result = string1 +\" \" + string2\n",
    "print(result)"
   ]
  },
  {
   "cell_type": "markdown",
   "id": "51a4fdc1-9fc5-417c-8385-0d14c88d5d47",
   "metadata": {},
   "source": [
    "# 2. using join() method"
   ]
  },
  {
   "cell_type": "code",
   "execution_count": 26,
   "id": "855e8c38-8ce5-4c87-82ef-f04eb8000fd2",
   "metadata": {},
   "outputs": [
    {
     "name": "stdout",
     "output_type": "stream",
     "text": [
      "Hello World\n"
     ]
    }
   ],
   "source": [
    "string = [\"Hello\" , \" \", \"World\"]\n",
    "result = \"\".join(string)\n",
    "print(result)"
   ]
  },
  {
   "cell_type": "markdown",
   "id": "848468f6-d016-4ff4-896a-c4b075f896d8",
   "metadata": {},
   "source": [
    "# 3.using f-string"
   ]
  },
  {
   "cell_type": "code",
   "execution_count": 29,
   "id": "efdb2674-4d1f-4b01-981e-8497e15a24ca",
   "metadata": {},
   "outputs": [
    {
     "name": "stdout",
     "output_type": "stream",
     "text": [
      "Hyy Anjali\n"
     ]
    }
   ],
   "source": [
    "string1 = \"Hyy\"\n",
    "string2 = \"Anjali\"\n",
    "result = f\"{string1} {string2}\"\n",
    "print(result)"
   ]
  },
  {
   "cell_type": "markdown",
   "id": "e71a5632-87b2-44c8-967e-ee026ca2ed4e",
   "metadata": {},
   "source": [
    "# 4. using % operator"
   ]
  },
  {
   "cell_type": "code",
   "execution_count": 34,
   "id": "0cf901b1-d4eb-424b-bc21-877c62d5a48a",
   "metadata": {},
   "outputs": [
    {
     "name": "stdout",
     "output_type": "stream",
     "text": [
      "Hi Python\n"
     ]
    }
   ],
   "source": [
    "string1 = \"Hi\"\n",
    "string2 = \"Python\"\n",
    "result = \"%s %s\" %(string1,string2)\n",
    "print(result)"
   ]
  },
  {
   "cell_type": "markdown",
   "id": "0dbf16da-07f9-45c1-bf3e-b1b17d9f0ade",
   "metadata": {},
   "source": [
    "# 5. using format() method"
   ]
  },
  {
   "cell_type": "code",
   "execution_count": 38,
   "id": "b41f930f-ab70-49bd-ab66-1f84d249a3c2",
   "metadata": {},
   "outputs": [
    {
     "name": "stdout",
     "output_type": "stream",
     "text": [
      "Hello World\n"
     ]
    }
   ],
   "source": [
    "string1 = \"Hello\"\n",
    "string2 = \"World\"\n",
    "result = \"{} {}\".format(string1,string2)\n",
    "print(result)"
   ]
  },
  {
   "cell_type": "markdown",
   "id": "406447b1-3689-4f74-80be-99959ece6662",
   "metadata": {},
   "source": [
    "# 6. using * operator"
   ]
  },
  {
   "cell_type": "code",
   "execution_count": 42,
   "id": "b95993a8-b3f4-4801-9e46-88b1a77e2c76",
   "metadata": {},
   "outputs": [
    {
     "name": "stdout",
     "output_type": "stream",
     "text": [
      "AnjaliAnjaliAnjaliAnjaliAnjali\n"
     ]
    }
   ],
   "source": [
    "string = \"Anjali\"\n",
    "result = string * 5\n",
    "print(result)"
   ]
  },
  {
   "cell_type": "markdown",
   "id": "f5d957c6-6f6e-441f-8212-550d616bbd71",
   "metadata": {},
   "source": [
    "# 2.What is the difference between the + operator and the join() method for concatenating strings?\n"
   ]
  },
  {
   "cell_type": "code",
   "execution_count": 3,
   "id": "2a4c8f13-991d-45ae-9e26-04cc35e6cece",
   "metadata": {},
   "outputs": [
    {
     "name": "stdout",
     "output_type": "stream",
     "text": [
      "Hello World\n",
      "Hello World\n"
     ]
    }
   ],
   "source": [
    "str1 = \"Hello\"\n",
    "str2 = \"World\"\n",
    "result = str1 + \" \" + str2\n",
    "print(result)\n",
    "\n",
    "words = [\"Hello\",\"World\"]\n",
    "result = \" \".join(words)\n",
    "print(result)                          "
   ]
  },
  {
   "cell_type": "markdown",
   "id": "a7a19fa0-d9d7-487f-923a-564ebb2b85d1",
   "metadata": {},
   "source": [
    "  # 3.How do you access individual characters in a string? "
   ]
  },
  {
   "cell_type": "code",
   "execution_count": 5,
   "id": "79eecc73-e513-43c2-af98-538915a072c5",
   "metadata": {},
   "outputs": [
    {
     "name": "stdout",
     "output_type": "stream",
     "text": [
      "h\n",
      "l\n",
      "e\n"
     ]
    }
   ],
   "source": [
    "string = \"hello\"\n",
    "print(string[0])   \n",
    "print(string[2])  \n",
    "print(string[-4])"
   ]
  },
  {
   "cell_type": "markdown",
   "id": "3aaf694d-727d-491d-9de9-aef718dc6314",
   "metadata": {},
   "source": [
    "# 4.What method is used to find the length of a string in Python?"
   ]
  },
  {
   "cell_type": "code",
   "execution_count": 43,
   "id": "e7a5a829-ed72-4eab-adac-470da0e8df1d",
   "metadata": {},
   "outputs": [
    {
     "name": "stdout",
     "output_type": "stream",
     "text": [
      "6\n"
     ]
    }
   ],
   "source": [
    "name = \"Anjali\"\n",
    "length = len(name) \n",
    "print(length)  "
   ]
  },
  {
   "cell_type": "markdown",
   "id": "50d0c83d-cad1-4e33-9a58-70483d7d336d",
   "metadata": {},
   "source": [
    "#  5.How can you convert a string to uppercase in Python? "
   ]
  },
  {
   "cell_type": "code",
   "execution_count": 49,
   "id": "a41a7cfa-3df9-44bd-839d-298cad007717",
   "metadata": {},
   "outputs": [
    {
     "name": "stdout",
     "output_type": "stream",
     "text": [
      "HELLO WORLD\n"
     ]
    }
   ],
   "source": [
    "string = \"hello world\"\n",
    "uppercase_string = string.upper()\n",
    "print(uppercase_string)      "
   ]
  },
  {
   "cell_type": "markdown",
   "id": "8c114580-ac22-4a74-8ded-ae550503efba",
   "metadata": {},
   "source": [
    "# 6.How can you convert a string to lowercase in Python?"
   ]
  },
  {
   "cell_type": "code",
   "execution_count": 51,
   "id": "6c12a342-5567-4575-a7b4-c4a946daf28c",
   "metadata": {},
   "outputs": [
    {
     "name": "stdout",
     "output_type": "stream",
     "text": [
      "hello world\n"
     ]
    }
   ],
   "source": [
    "string = \"HELLO WORLD\"\n",
    "lowercase_string = string.lower()\n",
    "print(lowercase_string)    \n",
    "   "
   ]
  },
  {
   "cell_type": "markdown",
   "id": "5cb427f7-a19d-4296-a5ec-2d7b89c39393",
   "metadata": {},
   "source": [
    "# 7.What method is used to replace substrings within a string?"
   ]
  },
  {
   "cell_type": "code",
   "execution_count": 55,
   "id": "31cd999e-7461-4e43-9a5d-432212aa89b2",
   "metadata": {},
   "outputs": [
    {
     "name": "stdout",
     "output_type": "stream",
     "text": [
      "Hello python, python!\n"
     ]
    }
   ],
   "source": [
    "text = \"Hello world, world!\"\n",
    "new_text = text.replace(\"world\", \"python\")\n",
    "print(new_text)   "
   ]
  },
  {
   "cell_type": "markdown",
   "id": "90efa855-bd45-486e-a2db-9c2710f75677",
   "metadata": {},
   "source": [
    "# 8. How can you split a string into a list of substrings based on a delimiter?"
   ]
  },
  {
   "cell_type": "code",
   "execution_count": 7,
   "id": "7cdacc22-e414-45a9-ac6b-7fcdc4805485",
   "metadata": {},
   "outputs": [
    {
     "name": "stdout",
     "output_type": "stream",
     "text": [
      "['apple', 'banana', 'cherry']\n",
      "['Hello', 'world', 'from', 'python']\n"
     ]
    }
   ],
   "source": [
    "text = \"apple,banana,cherry\"\n",
    "fruits = text. split(\",\")\n",
    "print(fruits)  \n",
    "\n",
    "\n",
    "text = \"Hello world from python\"\n",
    "words = text.split()\n",
    "print(words)  "
   ]
  },
  {
   "cell_type": "markdown",
   "id": "5b7e0170-505c-4e73-8722-f572904007ad",
   "metadata": {},
   "source": [
    "#  9.How do you check if a string starts with a particular substring? "
   ]
  },
  {
   "cell_type": "code",
   "execution_count": 57,
   "id": "587148dd-6c48-4714-8bfd-350084fa9e5a",
   "metadata": {},
   "outputs": [
    {
     "name": "stdout",
     "output_type": "stream",
     "text": [
      "True\n",
      "False\n"
     ]
    }
   ],
   "source": [
    "text = \"hello world\"\n",
    "print(text.startswith(\"hello\"))  \n",
    "print(text.startswith(\"Hello\"))  "
   ]
  },
  {
   "cell_type": "markdown",
   "id": "8ca0a780-2f50-4f69-990c-d415ce30b295",
   "metadata": {},
   "source": [
    "# 10. How do you check if a string ends with a particular substring?"
   ]
  },
  {
   "cell_type": "code",
   "execution_count": 59,
   "id": "fd0aba74-a739-47a2-8ef9-63d015684261",
   "metadata": {},
   "outputs": [
    {
     "name": "stdout",
     "output_type": "stream",
     "text": [
      "True\n",
      "False\n"
     ]
    }
   ],
   "source": [
    "string = \"example string\"\n",
    "substring = \"string\"\n",
    "\n",
    "result = string.endswith(substring)\n",
    "print(result) \n",
    "\n",
    "substring2 = \"str\"\n",
    "result2 = string.endswith(substring2)\n",
    "print(result2)"
   ]
  },
  {
   "cell_type": "markdown",
   "id": "1a356eab-aa2f-4cc3-8c93-0a16fce302b7",
   "metadata": {},
   "source": [
    "# 11.How can you remove leading and trailing whitespace from a string?  "
   ]
  },
  {
   "cell_type": "code",
   "execution_count": 61,
   "id": "3b8a472d-f910-49ea-8a4a-61e968a14067",
   "metadata": {},
   "outputs": [
    {
     "name": "stdout",
     "output_type": "stream",
     "text": [
      "example string with spaces\n"
     ]
    }
   ],
   "source": [
    "string_with_whitespace = \"  example string with spaces  \"\n",
    "string_without_whitespace = string_with_whitespace.strip()\n",
    "print(string_without_whitespace)\n"
   ]
  },
  {
   "cell_type": "markdown",
   "id": "4de652cc-2b40-437d-9101-c6e4f51a898a",
   "metadata": {},
   "source": [
    "# 12. What method is used to find the index of the first occurrence of a substring within a string?\n"
   ]
  },
  {
   "cell_type": "code",
   "execution_count": 63,
   "id": "0753c8ea-a142-4b0d-ab44-ef73d22276ce",
   "metadata": {},
   "outputs": [
    {
     "name": "stdout",
     "output_type": "stream",
     "text": [
      "7\n"
     ]
    }
   ],
   "source": [
    "text = \"Hello, world!\"\n",
    "index = text.find(\"world\")\n",
    "print(index)  "
   ]
  },
  {
   "cell_type": "markdown",
   "id": "b79191c3-0caa-4907-8c81-d17717dad8b9",
   "metadata": {},
   "source": [
    "# 13.How can you count the number of occurrences of a substring within a string? "
   ]
  },
  {
   "cell_type": "code",
   "execution_count": 65,
   "id": "b65bce84-1b4c-4918-b6b4-8a464417a45f",
   "metadata": {},
   "outputs": [
    {
     "name": "stdout",
     "output_type": "stream",
     "text": [
      "3\n"
     ]
    }
   ],
   "source": [
    "string = \"This is a string with string inside string\"\n",
    "substring = \"string\"\n",
    "count = string.count(substring)\n",
    "print(count) "
   ]
  },
  {
   "cell_type": "markdown",
   "id": "853d479c-7421-418e-9d9b-47d344db465d",
   "metadata": {},
   "source": [
    "#  14. How do you check if a string contains only alphabetic characters?\n"
   ]
  },
  {
   "cell_type": "code",
   "execution_count": 67,
   "id": "6810b761-d2f8-4e5a-82d2-537832a4f6c8",
   "metadata": {},
   "outputs": [
    {
     "name": "stdout",
     "output_type": "stream",
     "text": [
      "True\n",
      "False\n",
      "False\n"
     ]
    }
   ],
   "source": [
    "string1 = \"HelloWorld\"\n",
    "string2 = \"HelloWorld123\"\n",
    "string3 = \"Hello World\"\n",
    "\n",
    "print(string1.isalpha())\n",
    "print(string2.isalpha()) \n",
    "print(string3.isalpha()) "
   ]
  },
  {
   "cell_type": "markdown",
   "id": "b5fb7578-88e7-49e0-a045-6f4742e77547",
   "metadata": {},
   "source": [
    "# 15.How do you check if a string contains only numeric characters? "
   ]
  },
  {
   "cell_type": "code",
   "execution_count": 69,
   "id": "a912936d-9a25-42ec-bf9b-48c598588ac2",
   "metadata": {},
   "outputs": [
    {
     "name": "stdout",
     "output_type": "stream",
     "text": [
      "True\n",
      "False\n",
      "False\n"
     ]
    }
   ],
   "source": [
    "string1 = \"12345\"\n",
    "string2 = \"123ab\"\n",
    "string3 = \"12 34\"\n",
    "\n",
    "print(string1.isnumeric()) \n",
    "print(string2.isnumeric()) \n",
    "print(string3.isnumeric()) "
   ]
  },
  {
   "cell_type": "markdown",
   "id": "1813b715-c571-4b2c-87ea-598c8d3f8d24",
   "metadata": {},
   "source": [
    "# 16.How can you check if a string is a palindrome? "
   ]
  },
  {
   "cell_type": "code",
   "execution_count": 1,
   "id": "9690f454-42c8-44cd-a691-23b0189eef6c",
   "metadata": {},
   "outputs": [
    {
     "name": "stdout",
     "output_type": "stream",
     "text": [
      "palindrome\n"
     ]
    }
   ],
   "source": [
    "# dad\n",
    "name = \"dad\"\n",
    "if name == name[::-1]:\n",
    "    print(\"palindrome\")\n",
    "else:\n",
    "    print(\"not palindrome\")"
   ]
  },
  {
   "cell_type": "markdown",
   "id": "7eca16da-25e5-4bdb-8e0c-c6821fb8ab6e",
   "metadata": {},
   "source": [
    "#  17. How can you reverse a string in Python? "
   ]
  },
  {
   "cell_type": "code",
   "execution_count": 9,
   "id": "1989db65-fb97-4580-b684-666b36db86ac",
   "metadata": {},
   "outputs": [
    {
     "name": "stdout",
     "output_type": "stream",
     "text": [
      "olleh\n"
     ]
    }
   ],
   "source": [
    "string = \"hello\"\n",
    "reversed_string = string[::-1]\n",
    "print(reversed_string) "
   ]
  },
  {
   "cell_type": "markdown",
   "id": "0ededfe8-1947-4bde-b2a8-e8984432b29f",
   "metadata": {},
   "source": [
    "# 18.How do you format a string with placeholders for variable values? "
   ]
  },
  {
   "cell_type": "markdown",
   "id": "37dbfd1d-f682-48b0-8043-96253c671d5b",
   "metadata": {},
   "source": [
    "# 1. Percent(%) formatting\n",
    "    "
   ]
  },
  {
   "cell_type": "code",
   "execution_count": 15,
   "id": "8fc087b4-6500-408d-b363-c82abc6fea16",
   "metadata": {},
   "outputs": [
    {
     "name": "stdout",
     "output_type": "stream",
     "text": [
      "My name is Alice and i am 30 years old.\n"
     ]
    }
   ],
   "source": [
    "name = \"Alice\"\n",
    "age = 30\n",
    "print(\"My name is %s and i am %d years old.\" % (name,age))"
   ]
  },
  {
   "cell_type": "markdown",
   "id": "4372d09d-37ac-4b3d-9f29-f60782eb7eb6",
   "metadata": {},
   "source": [
    "# 2. .format() method"
   ]
  },
  {
   "cell_type": "code",
   "execution_count": 18,
   "id": "d7ddcf99-8c18-466e-af07-bbf57a762fe8",
   "metadata": {},
   "outputs": [
    {
     "name": "stdout",
     "output_type": "stream",
     "text": [
      "My name is Alice and i am 25 years old.\n"
     ]
    }
   ],
   "source": [
    "name = \"Alice\"\n",
    "age = 25\n",
    "print(\"My name is {} and i am {} years old.\".format(name, age))"
   ]
  },
  {
   "cell_type": "markdown",
   "id": "0fe9d23a-2a4b-45e7-bc49-de0f0d8be13e",
   "metadata": {},
   "source": [
    "# 3.f-string"
   ]
  },
  {
   "cell_type": "code",
   "execution_count": 23,
   "id": "23170d53-f758-4cbf-90f2-81e2e37c57df",
   "metadata": {},
   "outputs": [
    {
     "name": "stdout",
     "output_type": "stream",
     "text": [
      "My name is Alice and i am 20 years old.\n"
     ]
    }
   ],
   "source": [
    "name = \"Alice\"\n",
    "age = 20\n",
    "print(f\"My name is {name} and i am {age} years old.\")"
   ]
  },
  {
   "cell_type": "markdown",
   "id": "eb72fcb0-219b-48cd-8ec6-cabe0b94f094",
   "metadata": {},
   "source": [
    "#  19.How do you access a substring of a string using slicing? "
   ]
  },
  {
   "cell_type": "code",
   "execution_count": 29,
   "id": "2630e211-0774-480d-874c-102b361a16e0",
   "metadata": {},
   "outputs": [
    {
     "name": "stdout",
     "output_type": "stream",
     "text": [
      "Hello\n",
      "World!\n",
      "!dlroW ,olleH\n"
     ]
    }
   ],
   "source": [
    "text = \"Hello, World!\"\n",
    "substring = text[0:5]\n",
    "print(substring)\n",
    "\n",
    "substring = text[7:]\n",
    "print(substring)\n",
    "\n",
    "substring = text[::-1]\n",
    "print(substring) "
   ]
  },
  {
   "cell_type": "markdown",
   "id": "425e667d-7da8-4b60-a282-1c5328808f18",
   "metadata": {},
   "source": [
    "# 20.How can you remove specific characters from a string in Python ?"
   ]
  },
  {
   "cell_type": "code",
   "execution_count": 58,
   "id": "2a2c2d36-84d5-4649-ad0a-47bfd3b00c0a",
   "metadata": {},
   "outputs": [
    {
     "name": "stdout",
     "output_type": "stream",
     "text": [
      "Hello World!\n"
     ]
    }
   ],
   "source": [
    "string = \"Hello, World!\"\n",
    "new_string = string.replace(\",\",\"\")\n",
    "print(new_string)"
   ]
  }
 ],
 "metadata": {
  "kernelspec": {
   "display_name": "Python [conda env:base] *",
   "language": "python",
   "name": "conda-base-py"
  },
  "language_info": {
   "codemirror_mode": {
    "name": "ipython",
    "version": 3
   },
   "file_extension": ".py",
   "mimetype": "text/x-python",
   "name": "python",
   "nbconvert_exporter": "python",
   "pygments_lexer": "ipython3",
   "version": "3.12.7"
  }
 },
 "nbformat": 4,
 "nbformat_minor": 5
}
