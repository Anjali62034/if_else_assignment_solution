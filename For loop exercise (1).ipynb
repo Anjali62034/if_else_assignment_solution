{
 "cells": [
  {
   "cell_type": "markdown",
   "id": "5a91e84d-dd5f-4607-9d4a-4d3d1c6b6c4a",
   "metadata": {},
   "source": [
    "# 1. Write a python program to print all the numbers from 1 to 10 using a for loop."
   ]
  },
  {
   "cell_type": "code",
   "execution_count": 3,
   "id": "613af18d-6f7d-4022-b565-c00e3176f08f",
   "metadata": {},
   "outputs": [
    {
     "name": "stdout",
     "output_type": "stream",
     "text": [
      "1\n",
      "2\n",
      "3\n",
      "4\n",
      "5\n",
      "6\n",
      "7\n",
      "8\n",
      "9\n"
     ]
    }
   ],
   "source": [
    "for i in range(1,10):\n",
    "    print(i)"
   ]
  },
  {
   "cell_type": "markdown",
   "id": "eb4a4c6a-9a00-41f4-82c4-103d9d1f913b",
   "metadata": {},
   "source": [
    "# 2. Write a python program to find the sum of all numbers from 1 to 100 using a for loop. "
   ]
  },
  {
   "cell_type": "code",
   "execution_count": 3,
   "id": "e9c3aeef-39b1-41f4-aec6-b4be3a9c5e96",
   "metadata": {},
   "outputs": [
    {
     "name": "stdout",
     "output_type": "stream",
     "text": [
      "5050\n"
     ]
    }
   ],
   "source": [
    "total = 0\n",
    "for i in range(1,101,1):\n",
    "    # print(total,i)\n",
    "    total = total + i\n",
    "print(total)"
   ]
  },
  {
   "cell_type": "markdown",
   "id": "e959273c-78a9-452b-867d-0ab0078dd197",
   "metadata": {},
   "source": [
    "# 3. Write a python program to print the multiplication table of a given number using a for loop."
   ]
  },
  {
   "cell_type": "code",
   "execution_count": 35,
   "id": "5261cfe1-97b6-45aa-89e3-03e96a8f28ff",
   "metadata": {},
   "outputs": [
    {
     "name": "stdin",
     "output_type": "stream",
     "text": [
      "Enter table number: 9\n"
     ]
    },
    {
     "name": "stdout",
     "output_type": "stream",
     "text": [
      "9 * 1 = 9\n",
      "9 * 2 = 18\n",
      "9 * 3 = 27\n",
      "9 * 4 = 36\n",
      "9 * 5 = 45\n",
      "9 * 6 = 54\n",
      "9 * 7 = 63\n",
      "9 * 8 = 72\n",
      "9 * 9 = 81\n",
      "9 * 10 = 90\n"
     ]
    }
   ],
   "source": [
    "number = int(input(\"Enter table number:\"))\n",
    "for i in range(1,11):\n",
    "    print(f\"{number} * {i} = {number*i}\")"
   ]
  },
  {
   "cell_type": "markdown",
   "id": "9c79c671-1b4e-4a4d-922a-9246c1e7359f",
   "metadata": {},
   "source": [
    "# 4. Write a python program to count the number of even and odd numbers from a series of numbers using a for loop. "
   ]
  },
  {
   "cell_type": "code",
   "execution_count": 5,
   "id": "06de9a45-9244-4292-b594-ef0dd940b892",
   "metadata": {},
   "outputs": [
    {
     "name": "stdout",
     "output_type": "stream",
     "text": [
      "Number of even numbers: 50\n",
      "Number of odd numbers: 50\n"
     ]
    }
   ],
   "source": [
    "even_count = 0\n",
    "odd_count = 0\n",
    "for i in range(1,101):\n",
    "    if i%2==0:\n",
    "        even_count +=1\n",
    "    else:\n",
    "        odd_count +=1\n",
    "        \n",
    "print(\"Number of even numbers:\",even_count)\n",
    "print(\"Number of odd numbers:\",odd_count)"
   ]
  },
  {
   "cell_type": "code",
   "execution_count": 1,
   "id": "0246f949-cfce-47bb-9fe3-1ce2ffb59c39",
   "metadata": {},
   "outputs": [
    {
     "name": "stdout",
     "output_type": "stream",
     "text": [
      "1 is odd number\n",
      "2 is even number\n",
      "3 is odd number\n",
      "4 is even number\n",
      "5 is odd number\n",
      "6 is even number\n",
      "7 is odd number\n",
      "8 is even number\n",
      "9 is odd number\n",
      "10 is even number\n"
     ]
    }
   ],
   "source": [
    "list1 = [1,2,3,4,5,6,7,8,9,10]\n",
    "for item in list1:\n",
    "\n",
    "    if item%2 ==0:\n",
    "        print(f\"{item} is even number\")\n",
    "    else:\n",
    "        print(f\"{item} is odd number\")"
   ]
  },
  {
   "cell_type": "markdown",
   "id": "355857c9-61c5-4918-b2d8-0849221c3f40",
   "metadata": {},
   "source": [
    "# 5. Write a python program to find the factorial of a number using a for loop."
   ]
  },
  {
   "cell_type": "code",
   "execution_count": 17,
   "id": "81d11900-4bad-4b67-81ae-e82e62803d70",
   "metadata": {},
   "outputs": [
    {
     "name": "stdin",
     "output_type": "stream",
     "text": [
      "Enter fact number: 8\n"
     ]
    },
    {
     "name": "stdout",
     "output_type": "stream",
     "text": [
      "40320\n"
     ]
    }
   ],
   "source": [
    "fact_number = int(input(\"Enter fact number:\"))\n",
    "fact = 1\n",
    "for i in range(fact_number,0,-1):\n",
    "    fact = fact *i\n",
    "print(fact)"
   ]
  },
  {
   "cell_type": "markdown",
   "id": "ae617178-da38-4031-9a2d-60e845cae4d9",
   "metadata": {},
   "source": [
    "# 6. Write a python program to print the Fibonacci sequence up to a specified number using a for loop. "
   ]
  },
  {
   "cell_type": "code",
   "execution_count": 24,
   "id": "a8c891c6-0db9-4a57-ba66-4f1dd3cb6889",
   "metadata": {},
   "outputs": [
    {
     "name": "stdout",
     "output_type": "stream",
     "text": [
      "0\n",
      "1\n",
      "1\n",
      "2\n",
      "3\n",
      "5\n",
      "8\n",
      "13\n",
      "21\n",
      "34\n",
      "55\n"
     ]
    }
   ],
   "source": [
    "a = 0\n",
    "b = 1\n",
    "print(a)\n",
    "for i in range(0,10):\n",
    "    a,b = b,a+b\n",
    "    print(a)\n",
    "    "
   ]
  },
  {
   "cell_type": "markdown",
   "id": "bf6f171b-f834-434a-8762-180d144f69ab",
   "metadata": {},
   "source": [
    "# 7. Write a python program to check if a given number is prime or not using a for loop."
   ]
  },
  {
   "cell_type": "code",
   "execution_count": 36,
   "id": "0fe42b49-93bd-4b07-9758-7ec134b7a1f9",
   "metadata": {},
   "outputs": [
    {
     "name": "stdout",
     "output_type": "stream",
     "text": [
      "prime number\n"
     ]
    }
   ],
   "source": [
    "number = 97\n",
    "for i in range(2,number):\n",
    "    if number % i == 0:\n",
    "        print(\" not prime number\")\n",
    "        break\n",
    "else:\n",
    "    print(\"prime number\")\n",
    "    "
   ]
  },
  {
   "cell_type": "markdown",
   "id": "30565371-771b-49e2-8e64-d14adb13c4d0",
   "metadata": {},
   "source": [
    "# 8. Write a python program to find the largest element in a list using a for loop."
   ]
  },
  {
   "cell_type": "code",
   "execution_count": 7,
   "id": "3c606d7c-6252-4d37-8a1b-058625cf1327",
   "metadata": {},
   "outputs": [
    {
     "name": "stdout",
     "output_type": "stream",
     "text": [
      "The largest element in the list is:100\n"
     ]
    }
   ],
   "source": [
    "numbers = [98,100,65,85,2,75]\n",
    "largest = numbers[0]\n",
    "for number in numbers:\n",
    "    if number>largest:\n",
    "        largest = number\n",
    "\n",
    "print(f\"The largest element in the list is:{largest}\")"
   ]
  },
  {
   "cell_type": "markdown",
   "id": "1870b62b-a13e-492e-b420-d6d3bb668c98",
   "metadata": {},
   "source": [
    "# 9. Write a python program to reverse a given string using a for loop."
   ]
  },
  {
   "cell_type": "code",
   "execution_count": 12,
   "id": "59f668da-4382-4fd8-9484-d250e719c595",
   "metadata": {},
   "outputs": [
    {
     "name": "stdin",
     "output_type": "stream",
     "text": [
      "Enter a string to reverse: hello\n"
     ]
    },
    {
     "name": "stdout",
     "output_type": "stream",
     "text": [
      "Reversed_string: olleh\n"
     ]
    }
   ],
   "source": [
    "string = input(\"Enter a string to reverse:\")\n",
    "reversed_string =\"\" \n",
    "for char in string:\n",
    "    reversed_string = char + reversed_string\n",
    "print(\"Reversed_string:\", reversed_string)\n"
   ]
  },
  {
   "cell_type": "markdown",
   "id": "81b45844-01d9-425e-a17a-896b171c5560",
   "metadata": {},
   "source": [
    "# 10. Write a python program to find the commom elements between two lists using a for loop.  List1 = [1,2,3]   List2 = [4,5,1]  # common element is 1"
   ]
  },
  {
   "cell_type": "code",
   "execution_count": 16,
   "id": "77cbcbd4-671f-4fd3-a33e-b523fe131ba9",
   "metadata": {},
   "outputs": [
    {
     "name": "stdout",
     "output_type": "stream",
     "text": [
      "common elements: [1]\n"
     ]
    }
   ],
   "source": [
    "list1 = [1,2,3]\n",
    "list2 = [4,5,1]\n",
    "common_elements = []\n",
    "for element in list1:\n",
    "    if element in list2:\n",
    "        common_elements.append(element)\n",
    "\n",
    "print(\"common elements:\",common_elements)"
   ]
  },
  {
   "cell_type": "code",
   "execution_count": null,
   "id": "0245b488-4fa9-4504-b735-aabd7f93994d",
   "metadata": {},
   "outputs": [],
   "source": []
  }
 ],
 "metadata": {
  "kernelspec": {
   "display_name": "Python [conda env:base] *",
   "language": "python",
   "name": "conda-base-py"
  },
  "language_info": {
   "codemirror_mode": {
    "name": "ipython",
    "version": 3
   },
   "file_extension": ".py",
   "mimetype": "text/x-python",
   "name": "python",
   "nbconvert_exporter": "python",
   "pygments_lexer": "ipython3",
   "version": "3.12.7"
  }
 },
 "nbformat": 4,
 "nbformat_minor": 5
}
