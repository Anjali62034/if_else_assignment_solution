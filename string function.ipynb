{
 "cells": [
  {
   "cell_type": "markdown",
   "id": "777bacd9-e9f7-4563-a8c8-567dcfe8a60b",
   "metadata": {},
   "source": [
    "# 1. string.capitalize()\n",
    "    Capitalizes the first character."
   ]
  },
  {
   "cell_type": "code",
   "execution_count": 3,
   "id": "4bee4733-c0da-42d0-82e8-c0ed2e18191e",
   "metadata": {},
   "outputs": [
    {
     "data": {
      "text/plain": [
       "'Python'"
      ]
     },
     "execution_count": 3,
     "metadata": {},
     "output_type": "execute_result"
    }
   ],
   "source": [
    "string = \"python\"\n",
    "string.capitalize()"
   ]
  },
  {
   "cell_type": "markdown",
   "id": "0899b908-fe25-4fb2-a678-8ec52204f21e",
   "metadata": {},
   "source": [
    "# 2. string.casefold()\n",
    "    Convert to lowercase. "
   ]
  },
  {
   "cell_type": "code",
   "execution_count": 110,
   "id": "16898668-b48e-41c4-90b3-36a9b556e1e6",
   "metadata": {},
   "outputs": [
    {
     "data": {
      "text/plain": [
       "'python'"
      ]
     },
     "execution_count": 110,
     "metadata": {},
     "output_type": "execute_result"
    }
   ],
   "source": [
    "string = \"pYThon\"\n",
    "string.casefold()"
   ]
  },
  {
   "cell_type": "markdown",
   "id": "164a69be-3a57-43da-add4-dab597a93976",
   "metadata": {},
   "source": [
    "# 3. string.center(width[, fillchar])\n",
    "    Center the string within the specified width."
   ]
  },
  {
   "cell_type": "code",
   "execution_count": 45,
   "id": "b8c03e08-8b98-40f9-9931-b443807e72f6",
   "metadata": {},
   "outputs": [
    {
     "data": {
      "text/plain": [
       "'######################python######################'"
      ]
     },
     "execution_count": 45,
     "metadata": {},
     "output_type": "execute_result"
    }
   ],
   "source": [
    "string = \"python\"\n",
    "string.center(50,\"#\")"
   ]
  },
  {
   "cell_type": "markdown",
   "id": "51f342f5-e7ad-489b-a7f8-3823d83009bb",
   "metadata": {},
   "source": [
    "# 4. string.count(sub[, start[,end]])\n",
    "      Returns the number of non-overlapping occurrences of a substring."
   ]
  },
  {
   "cell_type": "code",
   "execution_count": 66,
   "id": "eea3cc27-0d7b-4b3a-babe-8ffa09923879",
   "metadata": {},
   "outputs": [
    {
     "data": {
      "text/plain": [
       "1"
      ]
     },
     "execution_count": 66,
     "metadata": {},
     "output_type": "execute_result"
    }
   ],
   "source": [
    "string = \"python\"\n",
    "string.count('p')"
   ]
  },
  {
   "cell_type": "markdown",
   "id": "885760a8-289b-4263-bc7c-0b1d8edc44f5",
   "metadata": {},
   "source": [
    "# 5. string.encode(encoding=\"utf-8\", error=\"strict\")\n",
    "    Returns encoded version of the string."
   ]
  },
  {
   "cell_type": "code",
   "execution_count": 8,
   "id": "ad6a2abc-7da9-4371-9ec9-9fec26a0b58f",
   "metadata": {},
   "outputs": [
    {
     "data": {
      "text/plain": [
       "b'python'"
      ]
     },
     "execution_count": 8,
     "metadata": {},
     "output_type": "execute_result"
    }
   ],
   "source": [
    "string = \"python\"\n",
    "string.encode()"
   ]
  },
  {
   "cell_type": "markdown",
   "id": "5a8b2a38-ab49-4666-8a69-5203c4f58dd6",
   "metadata": {},
   "source": [
    "# 6. string.endswith(suffix[,start[, end]])\n",
    "    Return True if the string ends with the specified suffix."
   ]
  },
  {
   "cell_type": "code",
   "execution_count": 87,
   "id": "829bcf55-4b4c-4da8-9a6b-60cf37df27a1",
   "metadata": {},
   "outputs": [
    {
     "data": {
      "text/plain": [
       "True"
      ]
     },
     "execution_count": 87,
     "metadata": {},
     "output_type": "execute_result"
    }
   ],
   "source": [
    "string = \"python\"\n",
    "string.endswith('n')"
   ]
  },
  {
   "cell_type": "markdown",
   "id": "32435d2f-7142-44da-8082-131001e536ac",
   "metadata": {},
   "source": [
    "# 7. string.expandtabs(tabsize=8)\n",
    "     Replaces tabs with spaces."
   ]
  },
  {
   "cell_type": "code",
   "execution_count": 15,
   "id": "fc7149bb-95b9-44d1-9429-5d2781a0cb2f",
   "metadata": {},
   "outputs": [
    {
     "data": {
      "text/plain": [
       "'python'"
      ]
     },
     "execution_count": 15,
     "metadata": {},
     "output_type": "execute_result"
    }
   ],
   "source": [
    "string = \"python\"\n",
    "string.expandtabs(8)"
   ]
  },
  {
   "cell_type": "markdown",
   "id": "31d2b197-92d6-4292-9faf-20a4d2e714ee",
   "metadata": {},
   "source": [
    "# 8. string.find(sub[, start[, end]])\n",
    "     Reutrns the lowest index of the substring; return -1 if not found."
   ]
  },
  {
   "cell_type": "code",
   "execution_count": 26,
   "id": "56a696cf-ca8c-435f-b590-ca5cdfe3f5ed",
   "metadata": {},
   "outputs": [
    {
     "data": {
      "text/plain": [
       "4"
      ]
     },
     "execution_count": 26,
     "metadata": {},
     "output_type": "execute_result"
    }
   ],
   "source": [
    "string = \"python\"\n",
    "string.find('a')\n",
    "string.find('o')"
   ]
  },
  {
   "cell_type": "markdown",
   "id": "7393bbd5-76b0-4f1a-952a-d1302a0346a6",
   "metadata": {},
   "source": [
    "#  9. string.format(*args, **kwargs)\n",
    "    Formats string using the specified arguments."
   ]
  },
  {
   "cell_type": "code",
   "execution_count": 125,
   "id": "92dff519-1d5f-4dae-9ae6-888b0e5fa8de",
   "metadata": {},
   "outputs": [
    {
     "data": {
      "text/plain": [
       "'pythonlanguage'"
      ]
     },
     "execution_count": 125,
     "metadata": {},
     "output_type": "execute_result"
    }
   ],
   "source": [
    "string = \"python{}\"\n",
    "string.format('language')"
   ]
  },
  {
   "cell_type": "markdown",
   "id": "4b612d98-3799-46a2-9acd-63bd6adb58f5",
   "metadata": {},
   "source": [
    "#  10. string.format_map(mapping)\n",
    "     Formats string using a mapping."
   ]
  },
  {
   "cell_type": "code",
   "execution_count": 135,
   "id": "252b84f3-0725-4202-b664-1a302786cceb",
   "metadata": {},
   "outputs": [
    {
     "ename": "AttributeError",
     "evalue": "'dict' object has no attribute 'format'",
     "output_type": "error",
     "traceback": [
      "\u001b[1;31m---------------------------------------------------------------------------\u001b[0m",
      "\u001b[1;31mAttributeError\u001b[0m                            Traceback (most recent call last)",
      "Cell \u001b[1;32mIn[135], line 2\u001b[0m\n\u001b[0;32m      1\u001b[0m string \u001b[38;5;241m=\u001b[39m {\u001b[38;5;124m\"\u001b[39m\u001b[38;5;124mname\u001b[39m\u001b[38;5;124m\"\u001b[39m : \u001b[38;5;124m\"\u001b[39m\u001b[38;5;124mAnjali\u001b[39m\u001b[38;5;124m\"\u001b[39m}\n\u001b[1;32m----> 2\u001b[0m string\u001b[38;5;241m.\u001b[39mformat\u001b[38;5;241m=\u001b[39m()\n",
      "\u001b[1;31mAttributeError\u001b[0m: 'dict' object has no attribute 'format'"
     ]
    }
   ],
   "source": [
    "string = {\"name\" : \"Anjali\"}\n",
    "string.format_map=()"
   ]
  },
  {
   "cell_type": "markdown",
   "id": "d91dcace-8b6e-4adf-912e-c8f85f697458",
   "metadata": {},
   "source": [
    "# 11. string.index(sub[, start[, end]])  \n",
    "     Like find() but raises ValueError if not found."
   ]
  },
  {
   "cell_type": "code",
   "execution_count": 147,
   "id": "412186c5-d23b-46df-a5a8-56582740ad21",
   "metadata": {},
   "outputs": [
    {
     "data": {
      "text/plain": [
       "1"
      ]
     },
     "execution_count": 147,
     "metadata": {},
     "output_type": "execute_result"
    }
   ],
   "source": [
    "string = \"python\"\n",
    "string.index('y')"
   ]
  },
  {
   "cell_type": "markdown",
   "id": "f05c01e5-4429-4ec8-a76c-401972983e32",
   "metadata": {},
   "source": [
    "# 12. string.isalnum()\n",
    "    Returns True if all characters are alphanumeric."
   ]
  },
  {
   "cell_type": "code",
   "execution_count": 150,
   "id": "6cf7ed02-c34d-4bb2-a01e-98a2ef4d20c1",
   "metadata": {},
   "outputs": [
    {
     "data": {
      "text/plain": [
       "True"
      ]
     },
     "execution_count": 150,
     "metadata": {},
     "output_type": "execute_result"
    }
   ],
   "source": [
    "string = \"python\"\n",
    "string.isalnum()"
   ]
  },
  {
   "cell_type": "markdown",
   "id": "c31306ab-5855-46e8-9d66-38ed2385efe6",
   "metadata": {},
   "source": [
    "# 13. string.isalpha()\n",
    "    Return True if all character are alphabetic."
   ]
  },
  {
   "cell_type": "code",
   "execution_count": 154,
   "id": "ce2dab6c-6662-432b-b9ec-3099f9f80b61",
   "metadata": {},
   "outputs": [
    {
     "data": {
      "text/plain": [
       "True"
      ]
     },
     "execution_count": 154,
     "metadata": {},
     "output_type": "execute_result"
    }
   ],
   "source": [
    "string = \"python\"\n",
    "string.isalpha()"
   ]
  },
  {
   "cell_type": "markdown",
   "id": "558e341f-de23-4f97-89f2-ff7d8a906f8e",
   "metadata": {},
   "source": [
    "# 14. string.isascii()\n",
    "    Return True if all characters are ASCII."
   ]
  },
  {
   "cell_type": "code",
   "execution_count": 159,
   "id": "3554b6d1-3429-4ad2-a0b0-65c45c1a80ad",
   "metadata": {},
   "outputs": [
    {
     "data": {
      "text/plain": [
       "True"
      ]
     },
     "execution_count": 159,
     "metadata": {},
     "output_type": "execute_result"
    }
   ],
   "source": [
    "string = \"python\"\n",
    "string.isascii()"
   ]
  },
  {
   "cell_type": "markdown",
   "id": "b10fc851-e529-45c8-b653-eac39a821f61",
   "metadata": {},
   "source": [
    "# 15. string.isdecimal()\n",
    "    Returns True if all character are decimal character."
   ]
  },
  {
   "cell_type": "code",
   "execution_count": 164,
   "id": "aed08ca1-2dc9-4085-b9b0-f6baafcde1ee",
   "metadata": {},
   "outputs": [
    {
     "data": {
      "text/plain": [
       "True"
      ]
     },
     "execution_count": 164,
     "metadata": {},
     "output_type": "execute_result"
    }
   ],
   "source": [
    "string = \"123\"\n",
    "string.isdecimal()"
   ]
  },
  {
   "cell_type": "code",
   "execution_count": 166,
   "id": "b4081128-7dbe-4e70-b474-52a7e55ab324",
   "metadata": {},
   "outputs": [
    {
     "data": {
      "text/plain": [
       "False"
      ]
     },
     "execution_count": 166,
     "metadata": {},
     "output_type": "execute_result"
    }
   ],
   "source": [
    "string = \"12.53\"\n",
    "string.isdecimal()"
   ]
  },
  {
   "cell_type": "markdown",
   "id": "19e81a0d-e846-4cef-8ce2-ee739f444974",
   "metadata": {},
   "source": [
    "# 16. string.isdigit()\n",
    "    Return True if all character are digits."
   ]
  },
  {
   "cell_type": "code",
   "execution_count": 169,
   "id": "323c9721-032a-4eab-a744-832925e20c10",
   "metadata": {},
   "outputs": [
    {
     "data": {
      "text/plain": [
       "True"
      ]
     },
     "execution_count": 169,
     "metadata": {},
     "output_type": "execute_result"
    }
   ],
   "source": [
    "string = \"453\"\n",
    "string.isdigit()"
   ]
  },
  {
   "cell_type": "code",
   "execution_count": 171,
   "id": "e62bc76f-88cd-4b4c-958b-281121977d31",
   "metadata": {},
   "outputs": [
    {
     "data": {
      "text/plain": [
       "False"
      ]
     },
     "execution_count": 171,
     "metadata": {},
     "output_type": "execute_result"
    }
   ],
   "source": [
    "string = \"abc\"\n",
    "string.isdigit()"
   ]
  },
  {
   "cell_type": "markdown",
   "id": "34866235-8606-4740-acb2-35992c3e31ce",
   "metadata": {},
   "source": [
    "# 17. string.isidentifier()\n",
    "     Returns True if string is a valid identifier."
   ]
  },
  {
   "cell_type": "code",
   "execution_count": 179,
   "id": "634c5bab-f519-4c9c-b9b3-711c1e34bc51",
   "metadata": {},
   "outputs": [
    {
     "data": {
      "text/plain": [
       "True"
      ]
     },
     "execution_count": 179,
     "metadata": {},
     "output_type": "execute_result"
    }
   ],
   "source": [
    "string = \"python123\"\n",
    "string.isidentifier()"
   ]
  },
  {
   "cell_type": "code",
   "execution_count": 177,
   "id": "3b2b7c20-6676-4b16-9f83-efee92974efe",
   "metadata": {},
   "outputs": [
    {
     "data": {
      "text/plain": [
       "False"
      ]
     },
     "execution_count": 177,
     "metadata": {},
     "output_type": "execute_result"
    }
   ],
   "source": [
    "string = \"1258\"\n",
    "string.isidentifier()"
   ]
  },
  {
   "cell_type": "markdown",
   "id": "6d0a8b70-d372-44cd-b6b4-d48bb68859f4",
   "metadata": {},
   "source": [
    "# 18. string.islower()\n",
    "    Returns True if all characters are lowercase."
   ]
  },
  {
   "cell_type": "code",
   "execution_count": 181,
   "id": "214abc3d-6e04-46d3-8c41-d280bb322253",
   "metadata": {},
   "outputs": [
    {
     "data": {
      "text/plain": [
       "True"
      ]
     },
     "execution_count": 181,
     "metadata": {},
     "output_type": "execute_result"
    }
   ],
   "source": [
    "string = \"python\"\n",
    "string.islower()"
   ]
  },
  {
   "cell_type": "markdown",
   "id": "2fc5dbf7-320d-46cd-b6a6-750672f37967",
   "metadata": {},
   "source": [
    "# 19. string.isnumeric()\n",
    "    Returns True if all characters are numeric."
   ]
  },
  {
   "cell_type": "code",
   "execution_count": 184,
   "id": "e5fc7419-566a-4ae8-aa05-abb9a6fa1937",
   "metadata": {},
   "outputs": [
    {
     "data": {
      "text/plain": [
       "True"
      ]
     },
     "execution_count": 184,
     "metadata": {},
     "output_type": "execute_result"
    }
   ],
   "source": [
    "string = \"45632\"\n",
    "string.isnumeric()"
   ]
  },
  {
   "cell_type": "markdown",
   "id": "4fd52d9a-0a5e-4cff-b5d7-f7701110fece",
   "metadata": {},
   "source": [
    "# 20. string.isprintable()\n",
    "     Returns True if all characters are printable."
   ]
  },
  {
   "cell_type": "code",
   "execution_count": 187,
   "id": "3346f501-cfc1-4099-8e35-a86d4b8da4a2",
   "metadata": {},
   "outputs": [
    {
     "data": {
      "text/plain": [
       "True"
      ]
     },
     "execution_count": 187,
     "metadata": {},
     "output_type": "execute_result"
    }
   ],
   "source": [
    "string = \"hii\"\n",
    "string.isprintable()"
   ]
  },
  {
   "cell_type": "markdown",
   "id": "ab862de0-9a3b-4e48-ad01-2cc7b3e7ce08",
   "metadata": {},
   "source": [
    "# 21. string.isspace()\n",
    "    Returns True if all characters are whitespace."
   ]
  },
  {
   "cell_type": "code",
   "execution_count": 196,
   "id": "232776e5-85f8-4fb5-806b-6dfc6d2af00a",
   "metadata": {},
   "outputs": [
    {
     "data": {
      "text/plain": [
       "True"
      ]
     },
     "execution_count": 196,
     "metadata": {},
     "output_type": "execute_result"
    }
   ],
   "source": [
    "string = \"    \"\n",
    "string.isspace()"
   ]
  },
  {
   "cell_type": "markdown",
   "id": "40905b61-fcc9-4527-b997-0a7652493d59",
   "metadata": {},
   "source": [
    "# 22. string.istitle()\n",
    "    Returns True if the string is titlecased."
   ]
  },
  {
   "cell_type": "code",
   "execution_count": 201,
   "id": "c00dea21-facb-47fa-8b85-41de23457b74",
   "metadata": {},
   "outputs": [
    {
     "data": {
      "text/plain": [
       "True"
      ]
     },
     "execution_count": 201,
     "metadata": {},
     "output_type": "execute_result"
    }
   ],
   "source": [
    "string = \"The\"\n",
    "string.istitle()"
   ]
  },
  {
   "cell_type": "markdown",
   "id": "874df641-ba8c-4744-b991-359bceed339d",
   "metadata": {},
   "source": [
    "# 23. string.isupper\n",
    "    Returns True if all characters are uppercase."
   ]
  },
  {
   "cell_type": "code",
   "execution_count": 204,
   "id": "5355154d-d0ae-4454-9109-5cb8a3ecb269",
   "metadata": {},
   "outputs": [
    {
     "data": {
      "text/plain": [
       "True"
      ]
     },
     "execution_count": 204,
     "metadata": {},
     "output_type": "execute_result"
    }
   ],
   "source": [
    "string = \"ANJALI\"\n",
    "string.isupper()"
   ]
  },
  {
   "cell_type": "markdown",
   "id": "c54c78ef-6404-46c0-a64b-7567624c4be7",
   "metadata": {},
   "source": [
    "# 24. string.join(iterable)\n",
    "    Joins elements of an iterable with the string as a separator."
   ]
  },
  {
   "cell_type": "code",
   "execution_count": 217,
   "id": "d53d67c1-73d8-48eb-bbd7-7496ce1c5680",
   "metadata": {},
   "outputs": [
    {
     "data": {
      "text/plain": [
       "'ab-pq-rs'"
      ]
     },
     "execution_count": 217,
     "metadata": {},
     "output_type": "execute_result"
    }
   ],
   "source": [
    "string = \"-\"\n",
    "string.join (['ab','pq','rs'])"
   ]
  },
  {
   "cell_type": "markdown",
   "id": "e363bbbc-c85c-4563-933d-674f5f1d0f60",
   "metadata": {},
   "source": [
    "# 25. string.ljust(width[, fillchar])\n",
    "    Left-justifies the string."
   ]
  },
  {
   "cell_type": "code",
   "execution_count": 228,
   "id": "77e978b0-a8e6-408a-bcac-8b45478af7f4",
   "metadata": {},
   "outputs": [
    {
     "data": {
      "text/plain": [
       "'python_12#####################'"
      ]
     },
     "execution_count": 228,
     "metadata": {},
     "output_type": "execute_result"
    }
   ],
   "source": [
    "string = \"python_12\"\n",
    "string.ljust(30,'#')"
   ]
  },
  {
   "cell_type": "markdown",
   "id": "428afc40-6bbd-41b8-ae7c-92dbb29a2f53",
   "metadata": {},
   "source": [
    "# 26. string.lower()\n",
    "     Converts to lowercase."
   ]
  },
  {
   "cell_type": "code",
   "execution_count": 231,
   "id": "149427f3-5aa0-4cd2-89b6-e9f0a1eaec29",
   "metadata": {},
   "outputs": [
    {
     "data": {
      "text/plain": [
       "'hii'"
      ]
     },
     "execution_count": 231,
     "metadata": {},
     "output_type": "execute_result"
    }
   ],
   "source": [
    "string = \"Hii\"\n",
    "string.lower()"
   ]
  },
  {
   "cell_type": "markdown",
   "id": "6e14c221-f54a-4164-90f5-83b4ef86ff68",
   "metadata": {},
   "source": [
    "# 27. string.lstrip([chars])\n",
    "    Removes leading characters(default: whitespace).\n",
    "    "
   ]
  },
  {
   "cell_type": "code",
   "execution_count": 238,
   "id": "9d8c985b-6152-4f1f-9b83-994d43b19bce",
   "metadata": {},
   "outputs": [
    {
     "data": {
      "text/plain": [
       "'hello'"
      ]
     },
     "execution_count": 238,
     "metadata": {},
     "output_type": "execute_result"
    }
   ],
   "source": [
    "string = \"     hello\" \n",
    "string.lstrip()"
   ]
  },
  {
   "cell_type": "markdown",
   "id": "2357a820-5f02-46df-8499-1954eb409d46",
   "metadata": {},
   "source": [
    "# 28. string.maketrans(x, y=None, z=None)\n",
    "    Returns a translation table."
   ]
  },
  {
   "cell_type": "code",
   "execution_count": 247,
   "id": "3d14b8cf-c6d3-4d22-a645-4c46d6a15175",
   "metadata": {},
   "outputs": [
    {
     "data": {
      "text/plain": [
       "{97: 49, 98: 50, 99: 51}"
      ]
     },
     "execution_count": 247,
     "metadata": {},
     "output_type": "execute_result"
    }
   ],
   "source": [
    "string = \"abcabc\"\n",
    "string.maketrans(\"abc\",\"123\")"
   ]
  },
  {
   "cell_type": "markdown",
   "id": "b001d129-2340-438c-8dc6-2702e31fd0d9",
   "metadata": {},
   "source": [
    "# 29. string.partition(sep)\n",
    "    Splits the string at the first occurrence of sep."
   ]
  },
  {
   "cell_type": "code",
   "execution_count": 250,
   "id": "0ce8353e-e2a9-4f13-a714-2ef8595f06ca",
   "metadata": {},
   "outputs": [
    {
     "data": {
      "text/plain": [
       "('say', ':', 'hii')"
      ]
     },
     "execution_count": 250,
     "metadata": {},
     "output_type": "execute_result"
    }
   ],
   "source": [
    "string =\"say:hii\"\n",
    "string.partition(\":\")"
   ]
  },
  {
   "cell_type": "markdown",
   "id": "731c21e8-9b4d-43be-9eef-49632ffbd3eb",
   "metadata": {},
   "source": [
    "# 30. string.removeprefix(prefix)\n",
    "    Removes the specified prefix if present."
   ]
  },
  {
   "cell_type": "code",
   "execution_count": 257,
   "id": "4dae7a20-ddf3-4e31-9019-062f5c159dcf",
   "metadata": {},
   "outputs": [
    {
     "data": {
      "text/plain": [
       "'happy'"
      ]
     },
     "execution_count": 257,
     "metadata": {},
     "output_type": "execute_result"
    }
   ],
   "source": [
    "string = \"unhappy\"\n",
    "string.removeprefix(\"un\")"
   ]
  },
  {
   "cell_type": "markdown",
   "id": "179669bd-341d-4c7c-84ab-8f784beba0e1",
   "metadata": {},
   "source": [
    "# 31. string.removesuffix(suffix)\n",
    "    Removes the specified suffix if present."
   ]
  },
  {
   "cell_type": "code",
   "execution_count": 266,
   "id": "ef0a2abc-d4a6-46b0-a293-8f60058ad0ed",
   "metadata": {},
   "outputs": [
    {
     "data": {
      "text/plain": [
       "'happy'"
      ]
     },
     "execution_count": 266,
     "metadata": {},
     "output_type": "execute_result"
    }
   ],
   "source": [
    "string = \"happy22\"\n",
    "string.removesuffix('22')"
   ]
  },
  {
   "cell_type": "markdown",
   "id": "b13433d3-4447-4543-8761-11f13d20f7cc",
   "metadata": {},
   "source": [
    "# 32. string.replace(old,new[, count])\n",
    "    Returns a copy with all occurrences of a substring replaced."
   ]
  },
  {
   "cell_type": "code",
   "execution_count": 50,
   "id": "9d6f03c8-e959-41ac-a1de-72817feab705",
   "metadata": {},
   "outputs": [
    {
     "data": {
      "text/plain": [
       "'orange'"
      ]
     },
     "execution_count": 50,
     "metadata": {},
     "output_type": "execute_result"
    }
   ],
   "source": [
    "string = \"mango\"\n",
    "string.replace('mango','orange')"
   ]
  },
  {
   "cell_type": "markdown",
   "id": "477cf399-01b1-47de-89ae-a60eeabf7c4b",
   "metadata": {},
   "source": [
    "# 33. string.rfind(sub[,start[,end]])\n",
    "     Returns the highest index of the substring."
   ]
  },
  {
   "cell_type": "code",
   "execution_count": 300,
   "id": "95316154-e809-4ca1-89ec-22812c9e5688",
   "metadata": {},
   "outputs": [
    {
     "data": {
      "text/plain": [
       "4"
      ]
     },
     "execution_count": 300,
     "metadata": {},
     "output_type": "execute_result"
    }
   ],
   "source": [
    "string = \"python\"\n",
    "string.rfind('o')"
   ]
  },
  {
   "cell_type": "markdown",
   "id": "eb13dc06-4d8a-4d4b-a34a-ce5478c3d1a5",
   "metadata": {},
   "source": [
    "# 34. string.rindex(sub[, start[, end]])\n",
    "    Like rfind() but raises ValueError if not found."
   ]
  },
  {
   "cell_type": "code",
   "execution_count": 303,
   "id": "d6f31c91-e99c-4376-bb57-e2eefa0f0697",
   "metadata": {},
   "outputs": [
    {
     "data": {
      "text/plain": [
       "1"
      ]
     },
     "execution_count": 303,
     "metadata": {},
     "output_type": "execute_result"
    }
   ],
   "source": [
    "string = \"hello\"\n",
    "string.rindex('e')"
   ]
  },
  {
   "cell_type": "markdown",
   "id": "139a0daa-b26e-4111-93d0-d52e6fc6163c",
   "metadata": {},
   "source": [
    "# 35. string.rjust(width[, fillchar])\n",
    "    Right-justifies the string."
   ]
  },
  {
   "cell_type": "code",
   "execution_count": 306,
   "id": "388bf8ce-8713-4ef6-aaeb-7b2c3f92c140",
   "metadata": {},
   "outputs": [
    {
     "data": {
      "text/plain": [
       "'@@@@@@@@@@@@@@@@@@@@@@@@@@@@@@@@@@@@@@@@@python_20'"
      ]
     },
     "execution_count": 306,
     "metadata": {},
     "output_type": "execute_result"
    }
   ],
   "source": [
    "string = \"python_20\"\n",
    "string.rjust(50,'@')"
   ]
  },
  {
   "cell_type": "markdown",
   "id": "af9c3c4d-a2de-4864-9b55-ec5b6f338de4",
   "metadata": {},
   "source": [
    "# 36. string.rpartition()"
   ]
  },
  {
   "cell_type": "code",
   "execution_count": 309,
   "id": "05d1efc8-7cc2-46b4-a705-c01e2891a867",
   "metadata": {},
   "outputs": [
    {
     "data": {
      "text/plain": [
       "('hii', ':', 'anjali')"
      ]
     },
     "execution_count": 309,
     "metadata": {},
     "output_type": "execute_result"
    }
   ],
   "source": [
    "string = \"hii:anjali\"\n",
    "string.rpartition(\":\")"
   ]
  },
  {
   "cell_type": "markdown",
   "id": "10d91335-e1a5-4470-bd8a-7101420237d5",
   "metadata": {},
   "source": [
    "# 37. string.rsplit(sep=None, maxsplit=-1)\n",
    "     Splits the string from the right."
   ]
  },
  {
   "cell_type": "code",
   "execution_count": 5,
   "id": "a19f93fb-2774-4d14-b1a3-f98d749a7e2a",
   "metadata": {},
   "outputs": [
    {
     "data": {
      "text/plain": [
       "['python']"
      ]
     },
     "execution_count": 5,
     "metadata": {},
     "output_type": "execute_result"
    }
   ],
   "source": [
    "string = \"python\\n\"\n",
    "string.rsplit()"
   ]
  },
  {
   "cell_type": "markdown",
   "id": "eb80ed39-3ef9-4065-a813-c8a4b2f3ae1f",
   "metadata": {},
   "source": [
    "# 38. string.rstrip([chars])\n",
    "    Removes trailing character(default: whitespace)."
   ]
  },
  {
   "cell_type": "code",
   "execution_count": 319,
   "id": "76934ffe-bafe-48df-b78e-62306f992fc4",
   "metadata": {},
   "outputs": [
    {
     "data": {
      "text/plain": [
       "'python'"
      ]
     },
     "execution_count": 319,
     "metadata": {},
     "output_type": "execute_result"
    }
   ],
   "source": [
    "string = \"python      \"\n",
    "string.rstrip()"
   ]
  },
  {
   "cell_type": "markdown",
   "id": "71c410b9-ffcb-4e87-b04d-afea85c3b779",
   "metadata": {},
   "source": [
    "# 39. string.Split(sep=None, maxsplit=-1)\n",
    "    Splits the string."
   ]
  },
  {
   "cell_type": "code",
   "execution_count": 3,
   "id": "9e14ff2f-a162-44b6-a8aa-2b05723f5eea",
   "metadata": {},
   "outputs": [
    {
     "data": {
      "text/plain": [
       "['python']"
      ]
     },
     "execution_count": 3,
     "metadata": {},
     "output_type": "execute_result"
    }
   ],
   "source": [
    "string = \"python\\n\"\n",
    "string.split()"
   ]
  },
  {
   "cell_type": "markdown",
   "id": "9c46f694-556c-428f-80e1-56413bde05cf",
   "metadata": {},
   "source": [
    "# 40. string.splitlines([keepends])\n",
    "     Splits at line breaks."
   ]
  },
  {
   "cell_type": "code",
   "execution_count": 337,
   "id": "23dc26de-80f6-420c-991f-7e649c6e2f55",
   "metadata": {},
   "outputs": [
    {
     "data": {
      "text/plain": [
       "['python', ' is a programming', ' language']"
      ]
     },
     "execution_count": 337,
     "metadata": {},
     "output_type": "execute_result"
    }
   ],
   "source": [
    "string = \"python\\n is a programming\\n language\"\n",
    "string.splitlines()"
   ]
  },
  {
   "cell_type": "markdown",
   "id": "cecee5db-9cea-455c-9594-8e7e112d4712",
   "metadata": {},
   "source": [
    "# 41. string.startswith(prefix[, start[, end]])\n",
    "    Returns True if the string starts with the prefix."
   ]
  },
  {
   "cell_type": "code",
   "execution_count": 344,
   "id": "0ccb1902-424a-4e12-81d6-a13c93ed0b26",
   "metadata": {},
   "outputs": [
    {
     "data": {
      "text/plain": [
       "True"
      ]
     },
     "execution_count": 344,
     "metadata": {},
     "output_type": "execute_result"
    }
   ],
   "source": [
    "string = \"python\"\n",
    "string.startswith( \"p\")"
   ]
  },
  {
   "cell_type": "markdown",
   "id": "860c48d3-f2d5-4479-8402-c04bdbffef85",
   "metadata": {},
   "source": [
    "# 42. string.strip([chars])\n",
    "    Removes leading and trailing characters."
   ]
  },
  {
   "cell_type": "code",
   "execution_count": 335,
   "id": "29de2ad3-d726-43cd-a8db-672dceecfd5c",
   "metadata": {},
   "outputs": [
    {
     "data": {
      "text/plain": [
       "'python'"
      ]
     },
     "execution_count": 335,
     "metadata": {},
     "output_type": "execute_result"
    }
   ],
   "source": [
    "string = \"     python\"\n",
    "string.strip()"
   ]
  },
  {
   "cell_type": "markdown",
   "id": "91308f7c-8294-4777-a62e-499956ca1234",
   "metadata": {},
   "source": [
    "# 43. string.swapcase()\n",
    "    Swaps case of all characters."
   ]
  },
  {
   "cell_type": "code",
   "execution_count": 346,
   "id": "ac258e2b-48db-4d4c-bc8d-52719bf66326",
   "metadata": {},
   "outputs": [
    {
     "data": {
      "text/plain": [
       "'PYthON'"
      ]
     },
     "execution_count": 346,
     "metadata": {},
     "output_type": "execute_result"
    }
   ],
   "source": [
    "string = \"pyTHon\"\n",
    "string.swapcase()"
   ]
  },
  {
   "cell_type": "markdown",
   "id": "fd7b5457-6ada-4fd7-8a59-553ce03ab701",
   "metadata": {},
   "source": [
    "# 44. string.title()\n",
    "      Returns a titlecased version of the string."
   ]
  },
  {
   "cell_type": "code",
   "execution_count": 349,
   "id": "020cae84-7e41-432b-a04a-bba5e1a8725d",
   "metadata": {},
   "outputs": [
    {
     "data": {
      "text/plain": [
       "'The Monkey'"
      ]
     },
     "execution_count": 349,
     "metadata": {},
     "output_type": "execute_result"
    }
   ],
   "source": [
    "string = \"the monkey\"\n",
    "string.title()"
   ]
  },
  {
   "cell_type": "markdown",
   "id": "d1c0df74-11cd-483a-b234-10766cf8e7b6",
   "metadata": {},
   "source": [
    "#  45. string.translate(table)\n",
    "      Returns a translated string."
   ]
  },
  {
   "cell_type": "code",
   "execution_count": 377,
   "id": "8d0e9251-deb8-456b-8f4d-52d1cf5d5811",
   "metadata": {},
   "outputs": [
    {
     "data": {
      "text/plain": [
       "'python'"
      ]
     },
     "execution_count": 377,
     "metadata": {},
     "output_type": "execute_result"
    }
   ],
   "source": [
    "string = \"python\"\n",
    "string.translate(\"12345\")"
   ]
  },
  {
   "cell_type": "markdown",
   "id": "74f82d3a-c54d-4a5b-a946-0ff4f39aeb70",
   "metadata": {},
   "source": [
    "# 46. string.upper()\n",
    "     Converts all characters to uppercase."
   ]
  },
  {
   "cell_type": "code",
   "execution_count": 354,
   "id": "fcbf1c2e-e0c8-49b4-af07-99c388bb0546",
   "metadata": {},
   "outputs": [
    {
     "data": {
      "text/plain": [
       "'HELLO, WORLD'"
      ]
     },
     "execution_count": 354,
     "metadata": {},
     "output_type": "execute_result"
    }
   ],
   "source": [
    " string = \"hello, world\"\n",
    "string.upper()"
   ]
  },
  {
   "cell_type": "markdown",
   "id": "bdaeefd6-f3c5-46cb-9f85-430052942a16",
   "metadata": {},
   "source": [
    "#  47. string.zfill(width)\n",
    "    Pads the string on the left with zeros."
   ]
  },
  {
   "cell_type": "code",
   "execution_count": 359,
   "id": "af39ea4d-e986-49a2-9288-ef806f6b5477",
   "metadata": {},
   "outputs": [
    {
     "data": {
      "text/plain": [
       "'000000000000000000000python_50'"
      ]
     },
     "execution_count": 359,
     "metadata": {},
     "output_type": "execute_result"
    }
   ],
   "source": [
    "string = \"python_50\"\n",
    "string.zfill(30)"
   ]
  },
  {
   "cell_type": "code",
   "execution_count": null,
   "id": "7b555210-4d43-4a81-a1a6-fd63ed0418ae",
   "metadata": {},
   "outputs": [],
   "source": []
  }
 ],
 "metadata": {
  "kernelspec": {
   "display_name": "Python [conda env:base] *",
   "language": "python",
   "name": "conda-base-py"
  },
  "language_info": {
   "codemirror_mode": {
    "name": "ipython",
    "version": 3
   },
   "file_extension": ".py",
   "mimetype": "text/x-python",
   "name": "python",
   "nbconvert_exporter": "python",
   "pygments_lexer": "ipython3",
   "version": "3.12.7"
  }
 },
 "nbformat": 4,
 "nbformat_minor": 5
}
