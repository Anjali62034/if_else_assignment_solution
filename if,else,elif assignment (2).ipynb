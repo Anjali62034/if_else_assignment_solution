{
 "cells": [
  {
   "cell_type": "markdown",
   "id": "260f229b-1c86-46bb-83ca-e50a410f7038",
   "metadata": {},
   "source": [
    "# 1.Write a program to calculate the electricity bill using only if statement?(accept number of unit from user) according to the following criteria:\n",
    "\n",
    "         Unit                               price\n",
    "\n",
    "     First 100 units                       no charge\n",
    " \n",
    "     Next 100 units                        Rs 5 per unit\n",
    " \n",
    "     After 200 units                       Rs 10 per unit"
   ]
  },
  {
   "cell_type": "code",
   "execution_count": 1,
   "id": "adffe2f1-e4d4-4462-aa8d-9d144ceeafaa",
   "metadata": {},
   "outputs": [
    {
     "name": "stdin",
     "output_type": "stream",
     "text": [
      "Enter the number of units: 350\n"
     ]
    },
    {
     "name": "stdout",
     "output_type": "stream",
     "text": [
      "Total bill amount to pay: 2000\n"
     ]
    }
   ],
   "source": [
    "units = int(input(\"Enter the number of units:\"))\n",
    "bill = 0\n",
    "\n",
    "if units>100 and units<=200:\n",
    "    bill = (units-100)*5\n",
    "if units>200:\n",
    "    bill = 500+(units-200)*10\n",
    "print(\"Total bill amount to pay:\",bill)"
   ]
  },
  {
   "cell_type": "markdown",
   "id": "f0f425fa-b694-4ce3-b2ec-4a7e0d559f06",
   "metadata": {},
   "source": [
    "# 2.write a program to accept percentage from the user and display the grade according to the following criteria:\n",
    "\n",
    "       Marks                     Grade\n",
    "\n",
    "       >90                         A\n",
    "\n",
    "       >80 and <=90                B\n",
    "\n",
    "       >=60 and <=80               C\n",
    "\n",
    "       below 60                    D"
   ]
  },
  {
   "cell_type": "code",
   "execution_count": 46,
   "id": "0e8d6d13-042c-4eb5-82ce-681cfa690c64",
   "metadata": {},
   "outputs": [
    {
     "name": "stdin",
     "output_type": "stream",
     "text": [
      "Enter the percentage 85\n"
     ]
    },
    {
     "name": "stdout",
     "output_type": "stream",
     "text": [
      "Grade = B\n"
     ]
    }
   ],
   "source": [
    "\n",
    "percentage = float(input(\"Enter the percentage\"))\n",
    "if percentage >90:\n",
    "    print(\"Grade = A\")\n",
    "if percentage >80 and percentage <=90:\n",
    "    print(\"Grade = B\")\n",
    "if percentage >=60 and percentage <=80:\n",
    "    print(\"Grade = c\")\n",
    "if percentage <60:\n",
    "    print(\"Grade = D\")"
   ]
  },
  {
   "cell_type": "markdown",
   "id": "bb88a84e-a3e5-4f28-88ad-fb047855b84f",
   "metadata": {},
   "source": [
    "# 3.Accept the age of 4 people and display the youngest one?"
   ]
  },
  {
   "cell_type": "code",
   "execution_count": 41,
   "id": "61cef6db-455f-401b-85d6-97ed3cd00003",
   "metadata": {},
   "outputs": [
    {
     "name": "stdin",
     "output_type": "stream",
     "text": [
      "Enter age person 1: 60\n",
      "Enter age person 2: 50\n",
      "Enter age person 3: 40\n",
      "Enter age person 4: 70\n"
     ]
    },
    {
     "name": "stdout",
     "output_type": "stream",
     "text": [
      "Age of youngest person is 40\n"
     ]
    }
   ],
   "source": [
    "age1 = int(input(\"Enter age person 1:\"))\n",
    "age2 = int(input(\"Enter age person 2:\"))\n",
    "age3 = int(input(\"Enter age person 3:\"))\n",
    "age4 = int(input(\"Enter age person 4:\"))\n",
    "\n",
    "if age1<age2 and age1<age3 and age1<age4:\n",
    "    print(\"Age of youngest person is\",age1)\n",
    "if age2<age1 and age2<age3 and age2<age4:\n",
    "    print(\"Age of youngest person is\",age2)\n",
    "if age3<age1 and age3<age2 and age3<age4:\n",
    "    print(\"Age of youngest person is\",age3)\n",
    "if age4<age1 and age4<age2 and age4<age3:\n",
    "    print(\"Age of youngest person is\",age4)"
   ]
  },
  {
   "cell_type": "markdown",
   "id": "3c8e1d9d-1daa-49b1-a279-8acabc791543",
   "metadata": {},
   "source": [
    "# 4. A company decided to give bonus to employee according to following criteria:\n",
    "\n",
    "       Time period of service                Bonus\n",
    "\n",
    "       More than 10 years                     10%\n",
    "\n",
    "       >=6 and <=10                            8%\n",
    "\n",
    "       Less than 6 years                       5%\n",
    "\n",
    "    Ask user for their salary and years of service and print the net bonus amount?   \n"
   ]
  },
  {
   "cell_type": "code",
   "execution_count": 1,
   "id": "ac20ecff-9749-4c9e-835c-61d0d978b402",
   "metadata": {},
   "outputs": [
    {
     "name": "stdin",
     "output_type": "stream",
     "text": [
      "Enter your salary : 50000\n",
      "Enter the year of service : 7\n"
     ]
    },
    {
     "name": "stdout",
     "output_type": "stream",
     "text": [
      "Net Bonus is  4000.0\n"
     ]
    }
   ],
   "source": [
    "salary =int(input(\"Enter your salary :\"))\n",
    "\n",
    "service= int(input(\"Enter the year of service :\"))\n",
    "\n",
    "if service > 10:\n",
    "    net_bonus= (10 / 100)* salary\n",
    "if service >=6 and service <=10:\n",
    "    net_bonus = (8 / 100)* salary \n",
    "if service < 6:\n",
    "    net_bonus = (5 / 100)* salary\n",
    "\n",
    "print(\"Net Bonus is \", net_bonus)"
   ]
  },
  {
   "cell_type": "markdown",
   "id": "fd692f70-c24a-4158-a396-7df6486947d6",
   "metadata": {},
   "source": [
    "# 5.Accept three numbers from the user and display the second largest number?"
   ]
  },
  {
   "cell_type": "code",
   "execution_count": 1,
   "id": "a831f3a0-1a5e-4621-ad20-fd9b4de23851",
   "metadata": {},
   "outputs": [
    {
     "name": "stdin",
     "output_type": "stream",
     "text": [
      "Enter first number 92\n",
      "Enter second number 50\n",
      "Enter third number 80\n"
     ]
    },
    {
     "name": "stdout",
     "output_type": "stream",
     "text": [
      "second largest number 80\n"
     ]
    }
   ],
   "source": [
    "number1 = int(input(\"Enter first number\"))\n",
    "number2 = int(input(\"Enter second number\"))\n",
    "number3 = int(input(\"Enter third number\"))\n",
    "if (number1<number2 and number1>number3) or (number1<number3 and number1>number2):\n",
    "    print(\"second largest number\",number1)\n",
    "if (number2<number1 and number2>number3) or (number2>number1 and number2<number3):\n",
    "    print(\"second largest number\",number2)\n",
    "if (number3<number1 and number3>number2) or (number3>number1 and number3<number2):\n",
    "    print(\"second largest number\",number3)\n"
   ]
  },
  {
   "cell_type": "markdown",
   "id": "e1660ac4-4601-4052-b77d-a17ed6b73c11",
   "metadata": {},
   "source": [
    "# 6.Accept the marked price from the user and calculate the net amount as (Marked price- Discount) to pay according to following criteria:\n",
    "\n",
    "      Marked price             Discount\n",
    "   \n",
    "      >10000                     20%\n",
    "\n",
    "      >7000 and <=10000          15%\n",
    "\n",
    "      >=7000                     10%\n",
    " \n",
    "       "
   ]
  },
  {
   "cell_type": "code",
   "execution_count": 15,
   "id": "3d87c626-bcfb-4476-81c7-e18fbe4784e9",
   "metadata": {},
   "outputs": [
    {
     "name": "stdin",
     "output_type": "stream",
     "text": [
      "Enter marked price 10000\n"
     ]
    },
    {
     "name": "stdout",
     "output_type": "stream",
     "text": [
      "net_amount to pay 8500.0\n"
     ]
    }
   ],
   "source": [
    "marked_price = float(input(\"Enter marked price\"))\n",
    "if marked_price>10000:\n",
    "   discount_percentage = 20/100 \n",
    "if marked_price>7000 and marked_price<=10000:\n",
    "    discount_percentage = 15/100 \n",
    "if marked_price<=7000:\n",
    "    discount_percentage = 10/100\n",
    "    \n",
    "discount = marked_price*discount_percentage\n",
    "net_amount = marked_price-discount\n",
    "print(\"net_amount to pay\",net_amount) "
   ]
  },
  {
   "cell_type": "markdown",
   "id": "0ad9155b-9a8e-4ce8-ae2e-6b0aa60ff6d8",
   "metadata": {},
   "source": [
    "# 7.Accept the marks of English, Math and Science,Social science and display the stream allotted according to following:\n",
    "All subjects more than 80 marks - Science Stream\n",
    "\n",
    "English>80 and Math,Science above 50 - Commerce Stream\n",
    "\n",
    "English>80 and social studies>80 - Humanities"
   ]
  },
  {
   "cell_type": "code",
   "execution_count": 25,
   "id": "2da2b9c9-9c78-46c9-ac3c-b2255f5236ed",
   "metadata": {},
   "outputs": [
    {
     "name": "stdin",
     "output_type": "stream",
     "text": [
      "Enter your marks in english: 85\n",
      "Enter your marks in math: 76\n",
      "Enter your marks in science: 70\n",
      "Enter your marks in social studies: 65\n"
     ]
    },
    {
     "name": "stdout",
     "output_type": "stream",
     "text": [
      "Commerce stream\n"
     ]
    }
   ],
   "source": [
    "english_marks = int(input(\"Enter your marks in english:\"))\n",
    "math_marks = int(input(\"Enter your marks in math:\"))\n",
    "science_marks = int(input(\"Enter your marks in science:\"))\n",
    "social_studies_marks = int(input(\"Enter your marks in social studies:\"))\n",
    "\n",
    "if english_marks>80 and math_marks>80 and science_marks>80 and social_studies_marks>80:\n",
    "    print(\"Science stream\")\n",
    "elif english_marks>80 and math_marks>50 and science_marks>50:\n",
    "    print(\"Commerce stream\")\n",
    "else:\n",
    "    english_marks>80 and social_studies_marks>80\n",
    "    print(\"Humanities\")"
   ]
  },
  {
   "cell_type": "markdown",
   "id": "0f7accf5-451f-463c-85c8-5796151c3cc5",
   "metadata": {},
   "source": [
    "# 8.Write a program to display \"Hello\" if a number entered by user is a multiple of five, otherwise print\"Bye\"?"
   ]
  },
  {
   "cell_type": "code",
   "execution_count": 19,
   "id": "72266d12-f13d-4a20-8752-5b187c14a316",
   "metadata": {},
   "outputs": [
    {
     "name": "stdin",
     "output_type": "stream",
     "text": [
      "Enter your number 26\n"
     ]
    },
    {
     "name": "stdout",
     "output_type": "stream",
     "text": [
      "Bye\n"
     ]
    }
   ],
   "source": [
    "number = int(input(\"Enter your number\"))\n",
    "if number%5==0:\n",
    "    print(\"Hello\")\n",
    "else:\n",
    "    print(\"Bye\")"
   ]
  },
  {
   "cell_type": "markdown",
   "id": "f3f7c2db-984a-43f7-8aae-c8518672dfab",
   "metadata": {},
   "source": [
    "# 9.Write a program to check whether the last digit of a number (entered by user) is divisible by 3 or not?"
   ]
  },
  {
   "cell_type": "code",
   "execution_count": 3,
   "id": "ae8bcaf5-a818-43cc-842a-08c2fc22934e",
   "metadata": {},
   "outputs": [
    {
     "name": "stdin",
     "output_type": "stream",
     "text": [
      "Enter your number 27\n"
     ]
    },
    {
     "name": "stdout",
     "output_type": "stream",
     "text": [
      "Number is divisible\n"
     ]
    }
   ],
   "source": [
    "number = int(input(\"Enter your number\"))\n",
    "if number%3==0:\n",
    "    print(\"Number is divisible\")\n",
    "else:\n",
    "    print(\"Number is not divisible\")"
   ]
  },
  {
   "cell_type": "markdown",
   "id": "b154df08-61e7-4b26-9fe5-8c458edb5059",
   "metadata": {},
   "source": [
    "# 10.Write a program to check whether a number entered is three-digit number or not?"
   ]
  },
  {
   "cell_type": "code",
   "execution_count": 5,
   "id": "7f9122e7-c948-46ad-9048-a603608fe2a7",
   "metadata": {},
   "outputs": [
    {
     "name": "stdin",
     "output_type": "stream",
     "text": [
      "Enter your number 852\n"
     ]
    },
    {
     "name": "stdout",
     "output_type": "stream",
     "text": [
      "The number entered is three digit\n"
     ]
    }
   ],
   "source": [
    "number = int(input(\"Enter your number\"))\n",
    "if 100<= number <=999:\n",
    "    print(\"The number entered is three digit\")\n",
    "else:\n",
    "    print(\"The number entered isn't three digit\")"
   ]
  },
  {
   "cell_type": "code",
   "execution_count": null,
   "id": "f91c21dd-184d-4ac1-b27a-7a950d4b1c14",
   "metadata": {},
   "outputs": [],
   "source": []
  }
 ],
 "metadata": {
  "kernelspec": {
   "display_name": "Python [conda env:base] *",
   "language": "python",
   "name": "conda-base-py"
  },
  "language_info": {
   "codemirror_mode": {
    "name": "ipython",
    "version": 3
   },
   "file_extension": ".py",
   "mimetype": "text/x-python",
   "name": "python",
   "nbconvert_exporter": "python",
   "pygments_lexer": "ipython3",
   "version": "3.12.7"
  }
 },
 "nbformat": 4,
 "nbformat_minor": 5
}
