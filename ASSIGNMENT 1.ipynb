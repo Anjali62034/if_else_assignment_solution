{
 "cells": [
  {
   "cell_type": "markdown",
   "id": "29acb662-9635-42b1-a0d0-1f02ba6e0e93",
   "metadata": {},
   "source": [
    "# 1. In the below elements which of them are values or an expression? eg:- values can be integer or string and expressions will be mathematical operators.\n",
    "\n",
    "      *\n",
    "      'hello'\n",
    "      -87.8\n",
    "      -\n",
    "      /\n",
    "         +\n",
    "      6"
   ]
  },
  {
   "cell_type": "code",
   "execution_count": 10,
   "id": "ccdf2f2a-dfad-4c3a-847e-e2e27adac5ac",
   "metadata": {},
   "outputs": [
    {
     "ename": "SyntaxError",
     "evalue": "invalid syntax (4039216449.py, line 1)",
     "output_type": "error",
     "traceback": [
      "\u001b[1;36m  Cell \u001b[1;32mIn[10], line 1\u001b[1;36m\u001b[0m\n\u001b[1;33m    Operators: *,-,+,/\u001b[0m\n\u001b[1;37m               ^\u001b[0m\n\u001b[1;31mSyntaxError\u001b[0m\u001b[1;31m:\u001b[0m invalid syntax\n"
     ]
    }
   ],
   "source": [
    "Operators: *,-,+,/\n",
    "Value: 'hello', -87.8, 6"
   ]
  },
  {
   "cell_type": "markdown",
   "id": "0916029b-2cee-4e43-bf08-ddd77afb9d31",
   "metadata": {},
   "source": [
    "# 2. What is the difference between string and variable?"
   ]
  },
  {
   "cell_type": "code",
   "execution_count": null,
   "id": "691ebd5c-1c32-4f8c-88cd-965a06556596",
   "metadata": {},
   "outputs": [],
   "source": [
    "String :- A string is a data type used to represent text.\n",
    "          It is a sequence of characters enclosed in quotes(\" \",' ').\n",
    "Example: \n",
    "          \"Hello, world!\"\n",
    "          'Python123'\n",
    "\n",
    "Variable :- A variable is a name used to store data.\n",
    "            You use variable to store data like number,string,list etc.\n",
    "Example:\n",
    "           name = \"Anjali\"\n",
    "           X = 5\n"
   ]
  },
  {
   "cell_type": "markdown",
   "id": "3ebdb82b-9383-47b9-ab81-45556c3f3221",
   "metadata": {},
   "source": [
    "# 3. Describe three different data types."
   ]
  },
  {
   "cell_type": "code",
   "execution_count": null,
   "id": "3923ab1c-ff50-47b6-b7da-4de9cbed2fb2",
   "metadata": {},
   "outputs": [],
   "source": [
    "1. Integer - Represents whole numbers.\n",
    "           (e.g- 5,-25 )\n",
    "    \n",
    "2. Float - Represents decimal numbers.\n",
    "           (e.g- -3.14,-0.0001)\n",
    "\n",
    "3. String - Represents sequence of characters.\n",
    "            (e.g- \"hello\")"
   ]
  },
  {
   "cell_type": "markdown",
   "id": "72b4528d-bb1c-4eb5-ab7a-089f4a49b58d",
   "metadata": {},
   "source": [
    "# 4. What is an expression made up of? What do all expressions do?"
   ]
  },
  {
   "cell_type": "code",
   "execution_count": null,
   "id": "85f0819e-917d-4954-b3b1-bff987e89e34",
   "metadata": {},
   "outputs": [],
   "source": [
    "An expression is a combination of values and operators. \n",
    "All expressions evaluate to a single value."
   ]
  },
  {
   "cell_type": "markdown",
   "id": "442fef80-2b6c-4151-906e-88baecec0c3e",
   "metadata": {},
   "source": [
    "# 5. This assignment statements, like spam = 10. What is the difference between an expression and a statement?"
   ]
  },
  {
   "cell_type": "code",
   "execution_count": null,
   "id": "ffa8a857-2f49-4f6f-baff-1de6a0f18ef7",
   "metadata": {},
   "outputs": [],
   "source": [
    "An expression evaluate to a value.\n",
    "A statement is an instruction that the python interpreter can execute."
   ]
  },
  {
   "cell_type": "markdown",
   "id": "5ccfac75-5e62-4cac-bfb0-f56ea200f5be",
   "metadata": {},
   "source": [
    "# 6. After running the following code, what does the variable becon contain?\n",
    "      bacon = 22\n",
    "      bacon + 1"
   ]
  },
  {
   "cell_type": "code",
   "execution_count": 3,
   "id": "414cf138-e643-43b8-bfc5-d8ec438109b9",
   "metadata": {},
   "outputs": [
    {
     "name": "stdout",
     "output_type": "stream",
     "text": [
      "23\n"
     ]
    }
   ],
   "source": [
    "bacon = 22\n",
    "bacon + 1\n",
    "print(bacon + 1)\n",
    "bacon = bacon +  1"
   ]
  },
  {
   "cell_type": "markdown",
   "id": "4d913cf0-e9d0-4119-9ade-28d04149301e",
   "metadata": {},
   "source": [
    "# 7. What should the values of the following two terms be?\n",
    "     'spam' + 'spamspam'\n",
    "     'spam'*3"
   ]
  },
  {
   "cell_type": "code",
   "execution_count": null,
   "id": "2a9237fa-1a15-48fb-b710-b51fbff68c07",
   "metadata": {},
   "outputs": [],
   "source": [
    "Both expression evaluate to the string 'spamspamspam'."
   ]
  },
  {
   "cell_type": "markdown",
   "id": "b41ea52f-0b93-4542-a3bd-5fac4ad074ca",
   "metadata": {},
   "source": [
    "# 8. Why is egg a valid variable name while 100 is invalid?"
   ]
  },
  {
   "cell_type": "code",
   "execution_count": null,
   "id": "79f79b69-d54c-4a7c-ac76-cc8a3584b1b1",
   "metadata": {},
   "outputs": [],
   "source": [
    "Variable names cannot begin with a number."
   ]
  },
  {
   "cell_type": "markdown",
   "id": "902c2cdd-f9c6-40c8-8fb7-90c3043c7847",
   "metadata": {},
   "source": [
    "# 9. What three function can be used to get the integer, floating-point number, or string version of a value?"
   ]
  },
  {
   "cell_type": "code",
   "execution_count": null,
   "id": "2c662c12-1b80-441e-9abe-d5b15e66d473",
   "metadata": {},
   "outputs": [],
   "source": [
    "The int(), float(), and str() functions will evaluate to the integer,floating-point number,and string version of the value passed to\n",
    "them."
   ]
  },
  {
   "cell_type": "markdown",
   "id": "7f808169-346b-4da7-b70b-7766384a9405",
   "metadata": {},
   "source": [
    "# 10. Why does this expression cause an error? How can you fix it?\n",
    "     'I have eaten'+ 99 +'burritos'."
   ]
  },
  {
   "cell_type": "code",
   "execution_count": null,
   "id": "2a8cbf2e-e127-4a56-962f-50d520c55a1c",
   "metadata": {},
   "outputs": [],
   "source": [
    "'I have eaten' is a string,\n",
    "99 is an integer,\n",
    "'burritos' is a string.\n",
    " We can not combine a string and a number directly using +.\n",
    "\n",
    "'I have eaten'+ str(99)+'burritos'.\n",
    "'I have eaten 99 burritos'."
   ]
  }
 ],
 "metadata": {
  "kernelspec": {
   "display_name": "Python [conda env:base] *",
   "language": "python",
   "name": "conda-base-py"
  },
  "language_info": {
   "codemirror_mode": {
    "name": "ipython",
    "version": 3
   },
   "file_extension": ".py",
   "mimetype": "text/x-python",
   "name": "python",
   "nbconvert_exporter": "python",
   "pygments_lexer": "ipython3",
   "version": "3.12.7"
  }
 },
 "nbformat": 4,
 "nbformat_minor": 5
}
